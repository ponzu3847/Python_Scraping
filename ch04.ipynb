{
 "metadata": {
  "language_info": {
   "codemirror_mode": {
    "name": "ipython",
    "version": 3
   },
   "file_extension": ".py",
   "mimetype": "text/x-python",
   "name": "python",
   "nbconvert_exporter": "python",
   "pygments_lexer": "ipython3",
   "version": "3.7.7-final"
  },
  "orig_nbformat": 2,
  "kernelspec": {
   "name": "python3",
   "display_name": "Python 3",
   "language": "python"
  }
 },
 "nbformat": 4,
 "nbformat_minor": 2,
 "cells": [
  {
   "source": [
    "## Web上のリソースを取得する"
   ],
   "cell_type": "markdown",
   "metadata": {}
  },
  {
   "source": [
    "### RequestsでWeb上のリソースを取得する"
   ],
   "cell_type": "markdown",
   "metadata": {}
  },
  {
   "cell_type": "code",
   "execution_count": 3,
   "metadata": {
    "tags": []
   },
   "outputs": [
    {
     "output_type": "stream",
     "name": "stdout",
     "text": [
      "200\n"
     ]
    }
   ],
   "source": [
    "import requests\n",
    "\n",
    "r=requests.get(\"http://weather.livedoor.com/weather_hacks/webservice\")\n",
    "print(r.status_code)"
   ]
  },
  {
   "cell_type": "code",
   "execution_count": 4,
   "metadata": {
    "tags": [
     "outputPrepend"
    ]
   },
   "outputs": [
    {
     "output_type": "stream",
     "name": "stdout",
     "text": [
      "'] = article_ab_title;\n\nvar article_ab_title = new Array();\nvar target_article = {};\n\n\n\n\narticle_ab_title = randomAdv(target_article);\nrand_article_title_hash['article_2132739'] = article_ab_title;\nrand_article_title_link_hash['article_link_2132739'] = article_ab_title;\nrand_article_title_image_hash['article_img_2132739'] = article_ab_title;\n\nvar article_ab_title = new Array();\nvar target_article = {};\n\n\n\n\narticle_ab_title = randomAdv(target_article);\nrand_article_title_hash['article_19670628'] = article_ab_title;\nrand_article_title_link_hash['article_link_19670628'] = article_ab_title;\nrand_article_title_image_hash['article_img_19670628'] = article_ab_title;\n\nvar article_ab_title = new Array();\nvar target_article = {};\n\n\n\n\narticle_ab_title = randomAdv(target_article);\nrand_article_title_hash['article_2133024'] = article_ab_title;\nrand_article_title_link_hash['article_link_2133024'] = article_ab_title;\nrand_article_title_image_hash['article_img_2133024'] = article_ab_title;\n\nvar article_ab_title = new Array();\nvar target_article = {};\n\n\n\n\narticle_ab_title = randomAdv(target_article);\nrand_article_title_hash['article_2132996'] = article_ab_title;\nrand_article_title_link_hash['article_link_2132996'] = article_ab_title;\nrand_article_title_image_hash['article_img_2132996'] = article_ab_title;\n\nvar article_ab_title = new Array();\nvar target_article = {};\n\n\n\n\narticle_ab_title = randomAdv(target_article);\nrand_article_title_hash['article_2132940'] = article_ab_title;\nrand_article_title_link_hash['article_link_2132940'] = article_ab_title;\nrand_article_title_image_hash['article_img_2132940'] = article_ab_title;\n\nvar article_ab_title = new Array();\nvar target_article = {};\n\n\n\n\narticle_ab_title = randomAdv(target_article);\nrand_article_title_hash['article_2132983'] = article_ab_title;\nrand_article_title_link_hash['article_link_2132983'] = article_ab_title;\nrand_article_title_image_hash['article_img_2132983'] = article_ab_title;\n\nvar article_ab_title = new Array();\nvar target_article = {};\n\n\n\n\narticle_ab_title = randomAdv(target_article);\nrand_article_title_hash['article_2132751'] = article_ab_title;\nrand_article_title_link_hash['article_link_2132751'] = article_ab_title;\nrand_article_title_image_hash['article_img_2132751'] = article_ab_title;\n\nvar article_ab_title = new Array();\nvar target_article = {};\n\n\n\n\narticle_ab_title = randomAdv(target_article);\nrand_article_title_hash['article_2132548'] = article_ab_title;\nrand_article_title_link_hash['article_link_2132548'] = article_ab_title;\nrand_article_title_image_hash['article_img_2132548'] = article_ab_title;\n\nvar article_ab_title = new Array();\nvar target_article = {};\n\n\n\n\narticle_ab_title = randomAdv(target_article);\nrand_article_title_hash['article_19670750'] = article_ab_title;\nrand_article_title_link_hash['article_link_19670750'] = article_ab_title;\nrand_article_title_image_hash['article_img_19670750'] = article_ab_title;\n\nvar article_ab_title = new Array();\nvar target_article = {};\n\n\n\n\narticle_ab_title = randomAdv(target_article);\nrand_article_title_hash['article_2132858'] = article_ab_title;\nrand_article_title_link_hash['article_link_2132858'] = article_ab_title;\nrand_article_title_image_hash['article_img_2132858'] = article_ab_title;\n\nvar article_ab_title = new Array();\nvar target_article = {};\n\n\n\n\narticle_ab_title = randomAdv(target_article);\nrand_article_title_hash['article_2132882'] = article_ab_title;\nrand_article_title_link_hash['article_link_2132882'] = article_ab_title;\nrand_article_title_image_hash['article_img_2132882'] = article_ab_title;\n\nvar article_ab_title = new Array();\nvar target_article = {};\n\n\n\n\narticle_ab_title = randomAdv(target_article);\nrand_article_title_hash['article_2132413'] = article_ab_title;\nrand_article_title_link_hash['article_link_2132413'] = article_ab_title;\nrand_article_title_image_hash['article_img_2132413'] = article_ab_title;\n\nrewrite_titles_figcaption_span(rand_article_title_hash);\nrewrite_topics_link(rand_article_title_link_hash);\nrewrite_titles_image_alt(rand_article_title_image_hash);\n$(\".rewrite_ab\").css(\"visibility\",\"visible\");\n</script>\n\n</section>\n\n<section class=\"blogos\">\n    <h2>BLOGOS</h2>\n    \n<a href=\"https://blogos.com/outline/515733/\" onclick=\"_gaq.push(['_trackEvent', 'メインカラム', 'BLOGOS','ヘッドライン画像']);\" target=\"_blank\">\n    <figure>\n        <img src=\"https://static.blogos.com/media/img/429225/ref_m.jpg\" width=\"300\" alt=\"臨床心理士が解説 自粛疲れを乗り越えるフリートーク\" title=\"臨床心理士が解説 自粛疲れを乗り越えるフリートーク\" />\n        <figcaption>臨床心理士が解説 自粛疲れを乗り越えるフリートーク</figcaption>\n    </figure>\n</a>\n\n\n\n<ol id=\"blogos-article-list\">\n    <li><a href=\"https://blogos.com/outline/515858/\" onclick=\"_gaq.push(['_trackEvent', 'メインカラム', 'BLOGOS','トピックス1']);\" target=\"_blank\">変異ウイルス 9県で13人感染確認</a></li>\n\n    <li><a href=\"https://blogos.com/outline/515216/\" onclick=\"_gaq.push(['_trackEvent', 'メインカラム', 'BLOGOS','トピックス2']);\" target=\"_blank\">内閣の支持率低下続き危険水域へ</a></li>\n\n    <li><a href=\"https://blogos.com/outline/515716/\" onclick=\"_gaq.push(['_trackEvent', 'メインカラム', 'BLOGOS','トピックス3']);\" target=\"_blank\">河井事件 自民は広島をなめるな</a></li>\n\n    <li><a href=\"https://blogos.com/outline/515713/\" onclick=\"_gaq.push(['_trackEvent', 'メインカラム', 'BLOGOS','トピックス4']);\" target=\"_blank\">予算委で審議拒否する野党に幻滅</a></li>\n\n    <li><a href=\"https://blogos.com/outline/515731/\" onclick=\"_gaq.push(['_trackEvent', 'メインカラム', 'BLOGOS','トピックス5']);\" target=\"_blank\">スマホで株式投資ができるのか</a></li>\n\n    <li><a href=\"https://blogos.com/outline/515678/\" onclick=\"_gaq.push(['_trackEvent', 'メインカラム', 'BLOGOS','トピックス6']);\" target=\"_blank\">慎重な眞子さま なぜ結婚急いだ?</a></li>\n\n    <li><a href=\"https://blogos.com/outline/515407/\" onclick=\"_gaq.push(['_trackEvent', 'メインカラム', 'BLOGOS','トピックス7']);\" target=\"_blank\">ブラック化が進む教育業界の本音</a></li>\n\n    <li><a href=\"https://blogos.com/outline/515718/\" onclick=\"_gaq.push(['_trackEvent', 'メインカラム', 'BLOGOS','トピックス8']);\" target=\"_blank\">Clubhouse早速登録も…熱狂せず</a></li>\n\n</ol>\n\n    <p class=\"detail-link\"><a onclick=\"_gaq.push(['_trackEvent', 'メインカラム', 'BLOGOS','もっと見る/BLOGOS']);\" href=\"http://blogos.com/\" target=\"_blank\">一覧</a></p>\n</section>\n\n<section class=\"ad-box\">\n    <!-- /21627555768/livedoor_TOP/PC/main_middle_left -->\n    <div id='div-gpt-ad-1523251167609-0'>\n      <script>\n        googletag.cmd.push(function() { googletag.display('div-gpt-ad-1523251167609-0'); });\n      </script>\n    </div>\n    <!-- /21627555768/livedoor_TOP/PC/main_middle_right -->\n    <div id='div-gpt-ad-1523251186864-0'>\n      <script>\n        googletag.cmd.push(function() { googletag.display('div-gpt-ad-1523251186864-0'); });\n      </script>\n    </div>\n</section>\n\n<section class=\"blog-news\">\n    <h2>ブログ編集部の「推し」</h2>\n    <div id=\"blog-topics-box\" class=\"boxbody\">\n        \n\n<a href=\"http://tamauchi.blog.jp/archives/34285527.html\" onclick=\"_gaq.push(['_trackEvent', 'メインカラム', 'ブログニュース','「目標は立てていたものの」']);\" target=\"_blank\">\n    <figure>\n        <img src=\"https://resize.blogsys.jp/77912c1806ad4ef9250899d8052d9f22a8768602/trim2/35x76_48p_298x184/https://livedoor.blogimg.jp/yuen_gumi/imgs/5/2/5252ccf8.jpg\" width=\"300\" alt=\"「目標は立てていたものの」\" title=\"「目標は立てていたものの」\" />\n        <figcaption>「目標は立てていたものの」</figcaption>\n    </figure>\n</a>\n\n<ol id=\"blog-article-list\">\n    <li><a href=\"http://blog.livedoor.jp/cocofuru_2012/archives/25485084.html\" onclick=\"_gaq.push(['_trackEvent', 'メインカラム', 'ブログニュース','子猫の隠れた\\u0022チャームポイント\\u0022']);\" target=\"_blank\">子猫の隠れた&quot;チャームポイント&quot;</a></li>\n    <li><a href=\"https://mpluskdays.jp/archives/25502760.html\" onclick=\"_gaq.push(['_trackEvent', 'メインカラム', 'ブログニュース','ドリッパーに\\u0022コージー\\u0022を装着']);\" target=\"_blank\">ドリッパーに&quot;コージー&quot;を装着</a></li>\n    <li><a href=\"http://hs84.blog.jp/archives/42917678.html\" onclick=\"_gaq.push(['_trackEvent', 'メインカラム', 'ブログニュース','手話で\\u0022うわさ\\u0022を表現すると…']);\" target=\"_blank\">手話で&quot;うわさ&quot;を表現すると…</a></li>\n    <li><a href=\"http://blog.livedoor.jp/ramen_star_taro/archives/8580567.html\" onclick=\"_gaq.push(['_trackEvent', 'メインカラム', 'ブログニュース','なか卯で\\u0022豪快盛\\u0022をテイクアウト']);\" target=\"_blank\">なか卯で&quot;豪快盛&quot;をテイクアウト</a></li>\n    <li><a href=\"http://kanazawadays.com/archives/34243640.html\" onclick=\"_gaq.push(['_trackEvent', 'メインカラム', 'ブログニュース','金沢の観光名所でライトアップ']);\" target=\"_blank\">金沢の観光名所でライトアップ</a></li>\n    <li><a href=\"http://blog.livedoor.jp/shimi_kyo/archives/55875150.html\" onclick=\"_gaq.push(['_trackEvent', 'メインカラム', 'ブログニュース','キャンプ用に欲しいものを\\u0022熟考\\u0022']);\" target=\"_blank\">キャンプ用に欲しいものを&quot;熟考&quot;</a></li>\n    <li><a href=\"http://haronbouchannel.com/archives/55432110.html\" onclick=\"_gaq.push(['_trackEvent', 'メインカラム', 'ブログニュース','カジノフォンテンが強すぎる']);\" target=\"_blank\">カジノフォンテンが強すぎる</a></li>\n</ol>\n\n<p class=\"detail-link\"><a href=\"https://blog.livedoor.com/news/\" onclick=\"_gaq.push(['_trackEvent', 'メインカラム', 'ブログニュース','ブログニュース一覧']);\" target=\"_blank\">もっと見る</a></p>\n\n    </div>\n</section>\n\n\n\n<section class=\"blog-ranking\">\n    <h2>ブログランキング</h2>\n    \n<div id=\"blog-ranking\">\n    <ol>\n    \n        <li value=\"1\" class=\"ranking-1\"><a title=\"【画像】 消防団のお誘いの手紙が怖すぎると話題に\" href=\"http://blog.livedoor.jp/dqnplus/archives/2006152.html\" class=\"value1\" onclick=\"_gaq.push(['_trackEvent', 'メインカラム', '注目ブログランキング','【画像】 消防団のお誘いの手紙が怖すぎると話題に']);\" target=\"_blank\"><span class=\"num\">1</span>【画像】 消防団のお誘いの手紙が怖すぎると話題に</a><span class=\"blog-name\">痛いニュース(ﾉ∀`...</span></li>\n    \n    \n        <li value=\"2\" class=\"ranking-2\"><a title=\"けもフレ声優・尾崎由香さん、謎の『プペル』ツイートをして即ツイ消し→オタクたちが失望してしまう・・・\" href=\"http://jin115.com/archives/52312083.html\" class=\"value2\" onclick=\"_gaq.push(['_trackEvent', 'メインカラム', '注目ブログランキング','けもフレ声優・尾崎由香さん、謎の『プペル』ツイー']);\" target=\"_blank\"><span class=\"num\">2</span>けもフレ声優・尾崎由香さん、謎の『プペル』ツイートをして即...</a><span class=\"blog-name\">オレ的ゲーム速報＠...</span></li>\n    \n    \n        <li value=\"3\" class=\"ranking-3\"><a title=\"【マジかよ！】進撃の巨人のエレンさん、死亡・・・・・・\" href=\"http://www.akb48matomemory.com/archives/1078506263.html\" class=\"value3\" onclick=\"_gaq.push(['_trackEvent', 'メインカラム', '注目ブログランキング','【マジかよ！】進撃の巨人のエレンさん、死亡・・・']);\" target=\"_blank\"><span class=\"num\">3</span>【マジかよ！】進撃の巨人のエレンさん、死亡・・・・・・</a><span class=\"blog-name\">NEWSまとめもりー｜...</span></li>\n    \n    \n        <li value=\"4\" class=\"ranking-4\"><a title=\"【火消し】IOC「森会長は謝罪したからこの話は終わり！」 → 5日後「あの発言は完全に不適切」\" href=\"http://blog.esuteru.com/archives/9650030.html\" class=\"value4\" onclick=\"_gaq.push(['_trackEvent', 'メインカラム', '注目ブログランキング','【火消し】IOC「森会長は謝罪したからこの話は終わ']);\" target=\"_blank\"><span class=\"num\">4</span>【火消し】IOC「森会長は謝罪したからこの話は終わり！」 → 5...</a><span class=\"blog-name\">はちま起稿</span></li>\n    \n    \n        <li value=\"5\" class=\"ranking-5\"><a title=\"カラス、賢い「水を出して」とアイコンタクト\" href=\"http://hamusoku.com/archives/10352709.html\" class=\"value5\" onclick=\"_gaq.push(['_trackEvent', 'メインカラム', '注目ブログランキング','カラス、賢い「水を出して」とアイコンタクト']);\" target=\"_blank\"><span class=\"num\">5</span>カラス、賢い「水を出して」とアイコンタクト</a><span class=\"blog-name\">ハムスター速報</span></li>\n    \n    \n        <li value=\"6\" class=\"ranking-6\"><a title=\"【は？】オレ「給料明細見せ合いっこしない？」彼女「いいよ！せーのっ！」→結果ｗｗｗ\" href=\"http://www.oumaga-times.com/archives/1078650829.html\" class=\"value6\" onclick=\"_gaq.push(['_trackEvent', 'メインカラム', '注目ブログランキング','【は？】オレ「給料明細見せ合いっこしない？」彼女']);\" target=\"_blank\"><span class=\"num\">6</span>【は？】オレ「給料明細見せ合いっこしない？」彼女「いいよ！...</a><span class=\"blog-name\">おうまがタイムズ</span></li>\n    \n    \n        <li value=\"7\" class=\"ranking-7\"><a title=\"「COCOA」不具合 関係者を処分へ\" href=\"http://blog.livedoor.jp/nanjstu/archives/57691600.html\" class=\"value7\" onclick=\"_gaq.push(['_trackEvent', 'メインカラム', '注目ブログランキング','「COCOA」不具合 関係者を処分へ']);\" target=\"_blank\"><span class=\"num\">7</span>「COCOA」不具合 関係者を処分へ</a><span class=\"blog-name\">なんじぇいスタジア...</span></li>\n    \n    \n        <li value=\"8\" class=\"ranking-8\"><a title=\"人がお菓子作ってるだけの動画って幸せ詰まってない？\" href=\"http://mamekichimameko.blog.jp/archives/84022599.html\" class=\"value8\" onclick=\"_gaq.push(['_trackEvent', 'メインカラム', '注目ブログランキング','人がお菓子作ってるだけの動画って幸せ詰まってない']);\" target=\"_blank\"><span class=\"num\">8</span>人がお菓子作ってるだけの動画って幸せ詰まってない？</a><span class=\"blog-name\">まめきちまめこニー...</span></li>\n    \n    \n        <li value=\"9\" class=\"ranking-9\"><a title=\"車雑誌「キャンプユーチューバー女子と冬キャンしてみた」→キャンパー「落ち葉の上で焚き火するとか山火事起こす気かよ！」→炎上\" href=\"http://blog.livedoor.jp/nwknews/archives/5746622.html\" class=\"value9\" onclick=\"_gaq.push(['_trackEvent', 'メインカラム', '注目ブログランキング','車雑誌「キャンプユーチューバー女子と冬キャンして']);\" target=\"_blank\"><span class=\"num\">9</span>車雑誌「キャンプユーチューバー女子と冬キャンしてみた」→キ...</a><span class=\"blog-name\">哲学ニュースnwk</span></li>\n    \n    \n        <li value=\"10\" class=\"ranking-10\"><a title=\"【画像】FGO、ついに普通に可愛いキャラを実装ｗｗｗ\" href=\"http://news4vip.livedoor.biz/archives/52387914.html\" class=\"value10\" onclick=\"_gaq.push(['_trackEvent', 'メインカラム', '注目ブログランキング','【画像】FGO、ついに普通に可愛いキャラを実装ｗｗ']);\" target=\"_blank\"><span class=\"num\">10</span>【画像】FGO、ついに普通に可愛いキャラを実装ｗｗｗ</a><span class=\"blog-name\">【2ch】ニュー速ク...</span></li>\n    \n    </ol><ol>\n    \n    \n        <li value=\"11\" class=\"ranking-11\"><a title=\"スマイリーキクチ中傷被害事件とかいう闇深い事件、あれヤバすぎだろ・・・・\" href=\"http://world-fusigi.net/archives/9754258.html\" class=\"value11\" onclick=\"_gaq.push(['_trackEvent', 'メインカラム', '注目ブログランキング','スマイリーキクチ中傷被害事件とかいう闇深い事件、']);\" target=\"_blank\"><span class=\"num\">11</span>スマイリーキクチ中傷被害事件とかいう闇深い事件、あれヤバす...</a><span class=\"blog-name\">不思議.net</span></li>\n    \n    \n        <li value=\"12\" class=\"ranking-12\"><a title=\"結婚しない奴は国を衰退させてるって自覚はあんの？\" href=\"http://burusoku-vip.com/archives/1976052.html\" class=\"value12\" onclick=\"_gaq.push(['_trackEvent', 'メインカラム', '注目ブログランキング','結婚しない奴は国を衰退させてるって自覚はあんの？']);\" target=\"_blank\"><span class=\"num\">12</span>結婚しない奴は国を衰退させてるって自覚はあんの？</a><span class=\"blog-name\">ぶる速-VIP</span></li>\n    \n    \n        <li value=\"13\" class=\"ranking-13\"><a title=\"【悲報】おいでやすこがの「こがけん」、つまらないのがバレ始める\" href=\"http://girlsvip-matome.com/acv/1078649874.html\" class=\"value13\" onclick=\"_gaq.push(['_trackEvent', 'メインカラム', '注目ブログランキング','【悲報】おいでやすこがの「こがけん」、つまらない']);\" target=\"_blank\"><span class=\"num\">13</span>【悲報】おいでやすこがの「こがけん」、つまらないのがバレ始...</a><span class=\"blog-name\">ガールズVIPまとめ</span></li>\n    \n    \n        <li value=\"14\" class=\"ranking-14\"><a title=\"火葬場の隊員「それではボタンを押してください」遺族「あ…ああ…」ブルブル 親戚ワイ「おい！」→結果・・・・・・\" href=\"http://inazumanews2.com/archives/55472252.html\" class=\"value14\" onclick=\"_gaq.push(['_trackEvent', 'メインカラム', '注目ブログランキング','火葬場の隊員「それではボタンを押してください」遺']);\" target=\"_blank\"><span class=\"num\">14</span>火葬場の隊員「それではボタンを押してください」遺族「あ…あ...</a><span class=\"blog-name\">稲妻速報</span></li>\n    \n    \n        <li value=\"15\" class=\"ranking-15\"><a title=\"【疑問】風呂「臭いや汚れが取れます。疲れ癒せます。」←こいつがオタクに嫌われる理由\" href=\"http://onecall2ch.com/archives/9754229.html\" class=\"value15\" onclick=\"_gaq.push(['_trackEvent', 'メインカラム', '注目ブログランキング','【疑問】風呂「臭いや汚れが取れます。疲れ癒せます']);\" target=\"_blank\"><span class=\"num\">15</span>【疑問】風呂「臭いや汚れが取れます。疲れ癒せます。」←こい...</a><span class=\"blog-name\">わんこーる速報！</span></li>\n    \n    \n        <li value=\"16\" class=\"ranking-16\"><a title=\"【豊作】2021年春アニメ一覧きたああああああ！どれ見る？\" href=\"http://otanew.jp/archives/9650042.html\" class=\"value16\" onclick=\"_gaq.push(['_trackEvent', 'メインカラム', '注目ブログランキング','【豊作】2021年春アニメ一覧きたああああああ！どれ']);\" target=\"_blank\"><span class=\"num\">16</span>【豊作】2021年春アニメ一覧きたああああああ！どれ見る？</a><span class=\"blog-name\">オタクニュース</span></li>\n    \n    \n        <li value=\"17\" class=\"ranking-17\"><a title=\"道に落ちてる物で一番驚いたのってなに？\" href=\"http://blog.livedoor.jp/goldennews/archives/52141243.html\" class=\"value17\" onclick=\"_gaq.push(['_trackEvent', 'メインカラム', '注目ブログランキング','道に落ちてる物で一番驚いたのってなに？']);\" target=\"_blank\"><span class=\"num\">17</span>道に落ちてる物で一番驚いたのってなに？</a><span class=\"blog-name\">ゴールデンタイムズ</span></li>\n    \n    \n        <li value=\"18\" class=\"ranking-18\"><a title=\"【悲報】セブンイレブン、ついに詐欺レベルのことをする\" href=\"http://blog.livedoor.jp/news23vip/archives/5746600.html\" class=\"value18\" onclick=\"_gaq.push(['_trackEvent', 'メインカラム', '注目ブログランキング','【悲報】セブンイレブン、ついに詐欺レベルのことを']);\" target=\"_blank\"><span class=\"num\">18</span>【悲報】セブンイレブン、ついに詐欺レベルのことをする</a><span class=\"blog-name\">VIPPERな俺</span></li>\n    \n    \n        <li value=\"19\" class=\"ranking-19\"><a title=\"韓国人「引越し業者を見れば分かる、日本が意識レベルと社会レベルの発達した先進国であるということを」\" href=\"http://blog.livedoor.jp/kaikaihanno/archives/57689364.html\" class=\"value19\" onclick=\"_gaq.push(['_trackEvent', 'メインカラム', '注目ブログランキング','韓国人「引越し業者を見れば分かる、日本が意識レベ']);\" target=\"_blank\"><span class=\"num\">19</span>韓国人「引越し業者を見れば分かる、日本が意識レベルと社会レ...</a><span class=\"blog-name\">カイカイ反応通信</span></li>\n    \n    \n        <li value=\"20\" class=\"ranking-20\"><a title=\"昔の車って窓開けるの手動だったってマジ！？\" href=\"http://matometanews.com/archives/1999381.html\" class=\"value20\" onclick=\"_gaq.push(['_trackEvent', 'メインカラム', '注目ブログランキング','昔の車って窓開けるの手動だったってマジ！？']);\" target=\"_blank\"><span class=\"num\">20</span>昔の車って窓開けるの手動だったってマジ！？</a><span class=\"blog-name\">まとめたニュース</span></li>\n    \n    \n    </ol>\n    <p class=\"detail-link\"><a href=\"https://blog.livedoor.com/ranking/\" onclick=\"_gaq.push(['_trackEvent', 'メインカラム', '注目ブログランキング','一覧/注目ブログランキング']);\" target=\"_blank\">もっと見る</a></p>\n</div>\n\n</section>\n\n</section><!-- /#main-column -->\n\n</section><!-- /#container -->\n\n<footer>\n    <div class=\"footer-inner\">\n        <dl class=\"content-list\">\n            <dt>コンテンツ一覧</dt>\n<ul>\n<li><a href=\"https://news.livedoor.com/\" onclick=\"_gaq.push(['_trackEvent', 'PC_フッター', 'コンテンツ一覧','ニュース']);\">ニュース</a></li>\n<li><a href=\"http://www.kstyle.com/\" onclick=\"_gaq.push(['_trackEvent', 'PC_フッター', 'コンテンツ一覧','韓流ニュース']);\">Kstyle</a></li>\n</ul>\n\n<ul>\n<li><a href=\"https://blog.livedoor.com/\" onclick=\"_gaq.push(['_trackEvent', 'PC_フッター', 'コンテンツ一覧','ブログ']);\">ブログ</a></li>\n<li><a href=\"http://www.hangame.co.jp/\" onclick=\"_gaq.push(['_trackEvent', 'PC_フッター', 'コンテンツ一覧','ハンゲーム']);\">ハンゲーム</a></li>\n</ul>\n\n<ul>\n<li><a href=\"http://baito.line.me/\" onclick=\"_gaq.push(['_trackEvent', 'PC_フッター', 'コンテンツ一覧','バイト探し']);\">バイト探し</a></li>\n<li><a href=\"http://blogroll.livedoor.com/\" onclick=\"_gaq.push(['_trackEvent', 'PC_フッター', 'コンテンツ一覧','Blog Roll']);\">相互RSS</a></li>\n</ul>\n\n<ul>\n<li><a href=\"http://travel.livedoor.com/\" onclick=\"_gaq.push(['_trackEvent', 'PC_フッター', 'コンテンツ一覧','格安航空券比較']);\">格安航空券比較</a></li>\n<li><a href=\"http://a-hikkoshi.com/livedoor/index.html\" onclick=\"_gaq.push(['_trackEvent', 'PC_フッター', 'コンテンツ一覧','引越し見積もり']);\">引越し見積もり</a></li>\n</ul>\n\n<ul>\n<li><a href=\"http://girls.livedoor.com/\" onclick=\"_gaq.push(['_trackEvent', 'PC_フッター', 'コンテンツ一覧','女性']);\">Peachy</a></li>\n</ul>\n\n            </dd>\n        </dl>\n        <div class=\"common-footer\">\n            <ul>\n                <li><a href=\"http://www.livedoor.com/\" onclick=\"_gaq.push(['_trackEvent', 'PC_フッター', 'フッターリンク','livedoorトップ']);\">livedoorトップ</a></li>\n                <li><a href=\"https://linecorp.com/career/position/list\" onclick=\"_gaq.push(['_trackEvent', 'PC_フッター', 'フッターリンク','採用情報']);\">採用情報</a></li>\n                <li><a href=\"https://www.linebiz.com/jp/service/media-service/livedoor-news/\" onclick=\"_gaq.push(['_trackEvent', 'PC_フッター', 'フッターリンク','広告掲載']);\">広告掲載</a></li>\n                <li><a href=\"http://docs.livedoor.com/rules/\" onclick=\"_gaq.push(['_trackEvent', 'PC_フッター', 'フッターリンク','利用規約']);\">利用規約</a></li>\n                <li><a href=\"http://docs.livedoor.com/privacy/\" onclick=\"_gaq.push(['_trackEvent', 'PC_フッター', 'フッターリンク','プライバシーポリシー']);\">プライバシーポリシー</a></li>\n                <li><a href=\"https://linecorp.com\" onclick=\"_gaq.push(['_trackEvent', 'PC_フッター', 'フッターリンク','会社概要']);\">会社概要</a></li>\n                <li><a href=\"http://linecorp.com/ja/pr/news/\" onclick=\"_gaq.push(['_trackEvent', 'PC_フッター', 'フッターリンク','プレスリリース']);\">プレスリリース</a></li>\n                <li><a href=\"http://helpguide.livedoor.com/\" onclick=\"_gaq.push(['_trackEvent', 'PC_フッター', 'フッターリンク','ヘルプ']);\">ヘルプ</a></li>\n            </ul>\n            <p>&copy; LINE Corporation</p>\n        </div><!--/common-footer-->\n    </div><!--/footer-inner-->\n</footer>\n\n<script>\n$(function(){\n  $('.menu_open a').click(function(){\n    $('#slide-box').css('display','block');\n    $('aside#close_layer').css('z-index','5');\n  });\n  $('#slide-box .btn_close').click(function(){\n    $(this).parents('#slide-box').css('display','none');\n    $('aside#close_layer').css('z-index','-1');\n  });\n\n  var images = [ '/img/announcement/bnr_img01.jpg', '/img/announcement/bnr_img02.jpg' ],\n    number = Math.floor(Math.random() * images.length),\n    selectedImg = images[number];\n\n  $('#randomImg').attr('src', selectedImg);\n});\n</script>\n</body></html>\n\n"
     ]
    }
   ],
   "source": [
    "print(r.text)"
   ]
  },
  {
   "source": [
    "### JSONのパース"
   ],
   "cell_type": "markdown",
   "metadata": {}
  },
  {
   "cell_type": "code",
   "execution_count": 5,
   "metadata": {},
   "outputs": [
    {
     "output_type": "error",
     "ename": "JSONDecodeError",
     "evalue": "Expecting value: line 2 column 1 (char 4)",
     "traceback": [
      "\u001b[0;31m---------------------------------------------------------------------------\u001b[0m",
      "\u001b[0;31mJSONDecodeError\u001b[0m                           Traceback (most recent call last)",
      "\u001b[0;32m<ipython-input-5-366dc85633c1>\u001b[0m in \u001b[0;36m<module>\u001b[0;34m\u001b[0m\n\u001b[0;32m----> 1\u001b[0;31m \u001b[0mjson\u001b[0m\u001b[0;34m=\u001b[0m\u001b[0mr\u001b[0m\u001b[0;34m.\u001b[0m\u001b[0mjson\u001b[0m\u001b[0;34m(\u001b[0m\u001b[0;34m)\u001b[0m\u001b[0;34m\u001b[0m\u001b[0;34m\u001b[0m\u001b[0m\n\u001b[0m\u001b[1;32m      2\u001b[0m \u001b[0mjson\u001b[0m\u001b[0;34m[\u001b[0m\u001b[0;34m\"description\"\u001b[0m\u001b[0;34m]\u001b[0m\u001b[0;34m[\u001b[0m\u001b[0;34m\"text\"\u001b[0m\u001b[0;34m]\u001b[0m\u001b[0;34m\u001b[0m\u001b[0;34m\u001b[0m\u001b[0m\n",
      "\u001b[0;32m~/.pyenv/versions/3.9.0/lib/python3.9/site-packages/requests/models.py\u001b[0m in \u001b[0;36mjson\u001b[0;34m(self, **kwargs)\u001b[0m\n\u001b[1;32m    898\u001b[0m                     \u001b[0;31m# used.\u001b[0m\u001b[0;34m\u001b[0m\u001b[0;34m\u001b[0m\u001b[0;34m\u001b[0m\u001b[0m\n\u001b[1;32m    899\u001b[0m                     \u001b[0;32mpass\u001b[0m\u001b[0;34m\u001b[0m\u001b[0;34m\u001b[0m\u001b[0m\n\u001b[0;32m--> 900\u001b[0;31m         \u001b[0;32mreturn\u001b[0m \u001b[0mcomplexjson\u001b[0m\u001b[0;34m.\u001b[0m\u001b[0mloads\u001b[0m\u001b[0;34m(\u001b[0m\u001b[0mself\u001b[0m\u001b[0;34m.\u001b[0m\u001b[0mtext\u001b[0m\u001b[0;34m,\u001b[0m \u001b[0;34m**\u001b[0m\u001b[0mkwargs\u001b[0m\u001b[0;34m)\u001b[0m\u001b[0;34m\u001b[0m\u001b[0;34m\u001b[0m\u001b[0m\n\u001b[0m\u001b[1;32m    901\u001b[0m \u001b[0;34m\u001b[0m\u001b[0m\n\u001b[1;32m    902\u001b[0m     \u001b[0;34m@\u001b[0m\u001b[0mproperty\u001b[0m\u001b[0;34m\u001b[0m\u001b[0;34m\u001b[0m\u001b[0m\n",
      "\u001b[0;32m~/.pyenv/versions/3.9.0/lib/python3.9/json/__init__.py\u001b[0m in \u001b[0;36mloads\u001b[0;34m(s, cls, object_hook, parse_float, parse_int, parse_constant, object_pairs_hook, **kw)\u001b[0m\n\u001b[1;32m    344\u001b[0m             \u001b[0mparse_int\u001b[0m \u001b[0;32mis\u001b[0m \u001b[0;32mNone\u001b[0m \u001b[0;32mand\u001b[0m \u001b[0mparse_float\u001b[0m \u001b[0;32mis\u001b[0m \u001b[0;32mNone\u001b[0m \u001b[0;32mand\u001b[0m\u001b[0;34m\u001b[0m\u001b[0;34m\u001b[0m\u001b[0m\n\u001b[1;32m    345\u001b[0m             parse_constant is None and object_pairs_hook is None and not kw):\n\u001b[0;32m--> 346\u001b[0;31m         \u001b[0;32mreturn\u001b[0m \u001b[0m_default_decoder\u001b[0m\u001b[0;34m.\u001b[0m\u001b[0mdecode\u001b[0m\u001b[0;34m(\u001b[0m\u001b[0ms\u001b[0m\u001b[0;34m)\u001b[0m\u001b[0;34m\u001b[0m\u001b[0;34m\u001b[0m\u001b[0m\n\u001b[0m\u001b[1;32m    347\u001b[0m     \u001b[0;32mif\u001b[0m \u001b[0mcls\u001b[0m \u001b[0;32mis\u001b[0m \u001b[0;32mNone\u001b[0m\u001b[0;34m:\u001b[0m\u001b[0;34m\u001b[0m\u001b[0;34m\u001b[0m\u001b[0m\n\u001b[1;32m    348\u001b[0m         \u001b[0mcls\u001b[0m \u001b[0;34m=\u001b[0m \u001b[0mJSONDecoder\u001b[0m\u001b[0;34m\u001b[0m\u001b[0;34m\u001b[0m\u001b[0m\n",
      "\u001b[0;32m~/.pyenv/versions/3.9.0/lib/python3.9/json/decoder.py\u001b[0m in \u001b[0;36mdecode\u001b[0;34m(self, s, _w)\u001b[0m\n\u001b[1;32m    335\u001b[0m \u001b[0;34m\u001b[0m\u001b[0m\n\u001b[1;32m    336\u001b[0m         \"\"\"\n\u001b[0;32m--> 337\u001b[0;31m         \u001b[0mobj\u001b[0m\u001b[0;34m,\u001b[0m \u001b[0mend\u001b[0m \u001b[0;34m=\u001b[0m \u001b[0mself\u001b[0m\u001b[0;34m.\u001b[0m\u001b[0mraw_decode\u001b[0m\u001b[0;34m(\u001b[0m\u001b[0ms\u001b[0m\u001b[0;34m,\u001b[0m \u001b[0midx\u001b[0m\u001b[0;34m=\u001b[0m\u001b[0m_w\u001b[0m\u001b[0;34m(\u001b[0m\u001b[0ms\u001b[0m\u001b[0;34m,\u001b[0m \u001b[0;36m0\u001b[0m\u001b[0;34m)\u001b[0m\u001b[0;34m.\u001b[0m\u001b[0mend\u001b[0m\u001b[0;34m(\u001b[0m\u001b[0;34m)\u001b[0m\u001b[0;34m)\u001b[0m\u001b[0;34m\u001b[0m\u001b[0;34m\u001b[0m\u001b[0m\n\u001b[0m\u001b[1;32m    338\u001b[0m         \u001b[0mend\u001b[0m \u001b[0;34m=\u001b[0m \u001b[0m_w\u001b[0m\u001b[0;34m(\u001b[0m\u001b[0ms\u001b[0m\u001b[0;34m,\u001b[0m \u001b[0mend\u001b[0m\u001b[0;34m)\u001b[0m\u001b[0;34m.\u001b[0m\u001b[0mend\u001b[0m\u001b[0;34m(\u001b[0m\u001b[0;34m)\u001b[0m\u001b[0;34m\u001b[0m\u001b[0;34m\u001b[0m\u001b[0m\n\u001b[1;32m    339\u001b[0m         \u001b[0;32mif\u001b[0m \u001b[0mend\u001b[0m \u001b[0;34m!=\u001b[0m \u001b[0mlen\u001b[0m\u001b[0;34m(\u001b[0m\u001b[0ms\u001b[0m\u001b[0;34m)\u001b[0m\u001b[0;34m:\u001b[0m\u001b[0;34m\u001b[0m\u001b[0;34m\u001b[0m\u001b[0m\n",
      "\u001b[0;32m~/.pyenv/versions/3.9.0/lib/python3.9/json/decoder.py\u001b[0m in \u001b[0;36mraw_decode\u001b[0;34m(self, s, idx)\u001b[0m\n\u001b[1;32m    353\u001b[0m             \u001b[0mobj\u001b[0m\u001b[0;34m,\u001b[0m \u001b[0mend\u001b[0m \u001b[0;34m=\u001b[0m \u001b[0mself\u001b[0m\u001b[0;34m.\u001b[0m\u001b[0mscan_once\u001b[0m\u001b[0;34m(\u001b[0m\u001b[0ms\u001b[0m\u001b[0;34m,\u001b[0m \u001b[0midx\u001b[0m\u001b[0;34m)\u001b[0m\u001b[0;34m\u001b[0m\u001b[0;34m\u001b[0m\u001b[0m\n\u001b[1;32m    354\u001b[0m         \u001b[0;32mexcept\u001b[0m \u001b[0mStopIteration\u001b[0m \u001b[0;32mas\u001b[0m \u001b[0merr\u001b[0m\u001b[0;34m:\u001b[0m\u001b[0;34m\u001b[0m\u001b[0;34m\u001b[0m\u001b[0m\n\u001b[0;32m--> 355\u001b[0;31m             \u001b[0;32mraise\u001b[0m \u001b[0mJSONDecodeError\u001b[0m\u001b[0;34m(\u001b[0m\u001b[0;34m\"Expecting value\"\u001b[0m\u001b[0;34m,\u001b[0m \u001b[0ms\u001b[0m\u001b[0;34m,\u001b[0m \u001b[0merr\u001b[0m\u001b[0;34m.\u001b[0m\u001b[0mvalue\u001b[0m\u001b[0;34m)\u001b[0m \u001b[0;32mfrom\u001b[0m \u001b[0;32mNone\u001b[0m\u001b[0;34m\u001b[0m\u001b[0;34m\u001b[0m\u001b[0m\n\u001b[0m\u001b[1;32m    356\u001b[0m         \u001b[0;32mreturn\u001b[0m \u001b[0mobj\u001b[0m\u001b[0;34m,\u001b[0m \u001b[0mend\u001b[0m\u001b[0;34m\u001b[0m\u001b[0;34m\u001b[0m\u001b[0m\n",
      "\u001b[0;31mJSONDecodeError\u001b[0m: Expecting value: line 2 column 1 (char 4)"
     ]
    }
   ],
   "source": [
    "json=r.json()\n",
    "json[\"description\"][\"text\"]"
   ]
  },
  {
   "source": [
    "## XpathとCSSセレクター"
   ],
   "cell_type": "markdown",
   "metadata": {}
  },
  {
   "source": [
    "<html>\n",
    "    <body>\n",
    "    <h1>書籍</h1>\n",
    "    <divclass=\"book\">\n",
    "        <pclass=\"title\">入門Python</p>\n",
    "        <ahref=\"/book/detail/9784798152530\">\n",
    "    </div>\n",
    "    </body>\n",
    "</html>"
   ],
   "cell_type": "code",
   "metadata": {},
   "execution_count": null,
   "outputs": []
  },
  {
   "cell_type": "code",
   "execution_count": null,
   "metadata": {},
   "outputs": [],
   "source": [
    "#このHTMLソースのh1要素の位置をXPathでは次のように表す\n",
    "/html/body/h1"
   ]
  },
  {
   "cell_type": "code",
   "execution_count": null,
   "metadata": {},
   "outputs": [],
   "source": [
    "#CSSセレクターでは次のように表す\n",
    "html>body>h1"
   ]
  },
  {
   "source": [
    "## HTMLソースを解析する"
   ],
   "cell_type": "markdown",
   "metadata": {}
  },
  {
   "source": [
    "https://www.shoeisha.co.jp/book/detail/9784798146072"
   ],
   "cell_type": "markdown",
   "metadata": {}
  },
  {
   "source": [
    "### 抜き出したい要素のXpathとCSSセレクターを取得する\n",
    "* Xpath  \n",
    "    検証→デベロッパーツールのElements内の要素を右クリック→Copy→Copy Xpath\n",
    "* CSSセレクター  \n",
    "    検証→デベロッパーツールのElements内の要素を右クリック→Copy→Copy selector"
   ],
   "cell_type": "markdown",
   "metadata": {}
  },
  {
   "source": [
    "### lxmlでスクレイピング"
   ],
   "cell_type": "markdown",
   "metadata": {}
  },
  {
   "cell_type": "code",
   "execution_count": 6,
   "metadata": {},
   "outputs": [
    {
     "output_type": "stream",
     "name": "stdout",
     "text": [
      "iPhone＆Androidアプリ内課金プログラミング完全ガイド 第2版\n              \nhttps://www.shoeisha.co.jp/book/qa/form/9784798146072\n"
     ]
    }
   ],
   "source": [
    "import requests\n",
    "import lxml.html\n",
    "\n",
    "#HTMLソースを得る\n",
    "r=requests.get('https://www.shoeisha.co.jp/book/detail/9784798146072')\n",
    "html=r.text\n",
    "\n",
    "#HTMLをHTMLElementオブジェクトにする\n",
    "root=lxml.html.fromstring(html)\n",
    "\n",
    "#Xpathを指定して該当する要素のリストを得る\n",
    "titleH1=root.xpath('//*[@id=\"cx_contents_block\"]/div[1]/section/h1')\n",
    "#リストの１番目の要素のテキストを表示する\n",
    "print(titleH1[0].text)\n",
    "\n",
    "# print(titleH1[0].tag)\n",
    "# print(titleH1[0].attrib)\n",
    "\n",
    "#CSSセレクターで該当する要素のリストを得る\n",
    "qaA=root.cssselect('#qa > p:nth-child(2) > a')\n",
    "\n",
    "#取得した要素のhref要素を得る\n",
    "for aTag in qaA:\n",
    "    print(aTag.attrib['href'])"
   ]
  },
  {
   "source": [
    "## RSSをスクレイピングする"
   ],
   "cell_type": "markdown",
   "metadata": {}
  },
  {
   "source": [
    "### XMLを解析する"
   ],
   "cell_type": "markdown",
   "metadata": {}
  },
  {
   "cell_type": "code",
   "execution_count": 9,
   "metadata": {
    "tags": [
     "outputPrepend"
    ]
   },
   "outputs": [
    {
     "output_type": "stream",
     "name": "stdout",
     "text": [
      "（火）<br />\\n実施ストア：Kindle、SEshop<br />\\n内容：翔泳社の電子書籍900点以上が50％OFFまたは50％ポイント還元<br />\\n特設ページ：<a href=\"https://www.shoeisha.co.jp/book/campaign/ebook202011?PR\" rel=\"nofollow ugc noopener\" target=\"_blank\">https://www.shoeisha.co.jp/book/campaign/ebook202011?PR</a><br />\\n<br />\\n&nbsp;<br />\\n<strong>■キャンペーン対象タイトルより一部抜粋</strong><br />\\n・失敗しないデザイン<br />\\n・Python 1年生 体験してわかる！会話でまなべる！プログラミングのしくみ<br />\\n・THE MODEL（MarkeZine BOOKS） マーケティング・インサイドセールス・営業・カスタマーサクセスの共業プロセス<br />\\n・SCRUM BOOT CAMP THE BOOK【増補改訂版】スクラムチームではじめるアジャイル開発<br />\\n・Adobe XDではじめるWebデザイン＆プロトタイピング 一歩先行く現場のスキル<br />\\n・シスコ技術者認定教科書 CCNA 完全合格テキスト＆問題集［対応試験］200 -301<br />\\n・たった一人の分析から事業は成長する 実践 顧客起点マーケティング（MarkeZine BOOKS）<br />\\n・ドメイン駆動設計入門 ボトムアップでわかる！ドメイン駆動設計の基本<br />\\n・深層学習教科書 ディープラーニング G検定（ジェネラリスト） 公式テキスト<br />\\n・独習Python<br />\\n・チーム・ジャーニー 逆境を越える、変化に強いチームをつくりあげるまで<br />\\n・Python2年生 スクレイピングのしくみ 体験してわかる！会話でまなべる！<br />\\n・やってはいけないデザイン<br />\\n・技術者のためのテクニカルライティング入門講座<br />\\n・見て試してわかる機械学習アルゴリズムの仕組み 機械学習図鑑<br />\\n・暗号技術のすべて<br />\\n・作るもの・作る人・作り方から学ぶ 採用・人事担当者のためのITエンジニアリングの基本がわかる本<br />\\n・「実践ドメイン駆動設計」から学ぶDDDの実装入門<br />\\n<br />\\n※詳細は特設ページをご参照ください（内容は実施ストアによって異なります）\\n                            </div>\\n                                                                                                                                                                    </div>\\n\\n                    </div>'}}, {'title': '書籍『実践 顧客起点マーケティング』無料で全文公開！著者：西口一希氏へオンライン相談できるキャンペーンも開催中', 'title_detail': {'type': 'text/plain', 'language': None, 'base': 'https://www.shoeisha.co.jp/rss/index.xml', 'value': '書籍『実践 顧客起点マーケティング』無料で全文公開！著者：西口一希氏へオンライン相談できるキャンペーンも開催中'}, 'authors': [{'name': '翔泳社'}], 'author': '翔泳社', 'author_detail': {'name': '翔泳社'}, 'links': [{'rel': 'alternate', 'type': 'text/html', 'href': 'http://www.shoeisha.co.jp/press/detail/546'}], 'link': 'http://www.shoeisha.co.jp/press/detail/546', 'published': 'Thu, 19 Nov 2020 12:00:09 +0900', 'published_parsed': time.struct_time(tm_year=2020, tm_mon=11, tm_mday=19, tm_hour=3, tm_min=0, tm_sec=9, tm_wday=3, tm_yday=324, tm_isdst=0), 'summary': '<div class=\"rbody\">\\n                        <div class=\"r-head\">\\n                            株式会社翔泳社（本社：東京都新宿区舟町5、社長：佐々木幹夫）は、書籍『たった一人の分析から事業は成長する 実践 顧客起点マーケティング』（西口 一希／著）を2020年11 月19日（木）～11月25日（水）の期間限定で、全ページ無料公開します。<br />\\nまた、同期間中に本書の感想をTwitterで投稿して、プレゼントが当たるキャンペーンも開催します。<br />\\n<br />\\n全文無料公開ぺージ：<a href=\"https://markezine.jp/mzbooks/campaign/kokyaku\" rel=\"nofollow ugc noopener\" target=\"_blank\">https://markezine.jp/mzbooks/campaign/kokyaku</a>\\n                        </div>\\n                        <div class=\"r-text clearfix\">\\n                            <div class=\"rich-text\">\\n                                <p id=\"p-iframe-image-58821-1\"><span class=\"text-image-caption clearfix editor-image center\"><img alt=\"『実践 顧客起点マーケティング』全文公開\" src=\"https://prtimes.jp/i/34873/40/resize/d34873-40-367334-0.png\" style=\"width: 650px; height: 341px;\" /></span></p>\\n<br />\\n<strong>■P＆Gやスマートニュースなどで数々の実績を上げた著者による、<br />\\n実務に使える1冊。1週間限定で全ページ無料公開</strong><br />\\n<br />\\n「顧客起点マーケティング」とは、1人の顧客を徹底的に理解することで、商品やサービスの新たな可能性を見つけていくことです。一般的な調査では、人の心を動かす「アイデア」はつかめません。たった１人（N１）の行動と心理を深掘りすることで、ビジネスを飛躍させる「アイデア」を生み出すことができるのです。<br />\\n<br />\\n現場で売上と利益の責任を背負ったビジネスパーソンから「役立つ」という声を多数いただいている『実践 顧客起点マーケティング』を、1週間限定で全ページ無料公開します（閲覧には会員登録が必要です）。<br />\\n<br />\\n<strong>無料公開期間：2020年11月19日（木）～11月25日（水）<br />\\n全文無料公開ぺージ：<a href=\"https://markezine.jp/mzbooks/campaign/kokyaku\" rel=\"nofollow ugc noopener\" target=\"_blank\">https://markezine.jp/mzbooks/campaign/kokyaku</a></strong><br />\\n※全文公開を閲覧するにはMarkeZineへの登録（無料）が必要です。<br />\\n<br />\\n&nbsp;<br />\\n<br />\\n<strong>■著者の西口一希氏とオンライン相談ができるかも？</strong><br />\\n<br />\\nまた、同期間に本書の感想をTwitterで投稿いただいた方から、抽選で3名様に著者の西口一希氏との30分オンライン相談＆直筆のサイン本をプレゼントするキャンペーンも開催します。<br />\\nMarkeZine公式Twitterアカウント(@markezine_jp)をフォローし、「#顧客起点マーケティング」のハッシュタグをつけて感想を投稿ください。<br />\\nキャンペーンへの参加詳細は、全文公開ページ（<a href=\"https://markezine.jp/mzbooks/campaign/kokyaku\" rel=\"nofollow ugc noopener\" target=\"_blank\">https://markezine.jp/mzbooks/campaign/kokyaku</a>）をご覧ください。\\n<p id=\"p-iframe-image-58821-2\"><span class=\"text-image-caption clearfix editor-image center\"><img alt=\"\" src=\"https://prtimes.jp/i/34873/40/resize/d34873-40-390741-1.png\" style=\"width: 650px; height: 406px;\" /></span></p>\\n<br />\\n&nbsp;<br />\\n■<strong>書籍概要</strong><br />\\n<strong>『たった一人の分析から事業は成長する 実践 顧客起点マーケティング（MarkeZine BOOKS）』</strong><br />\\n著者：西口 一希<br />\\n発売日：2019年4月8日<br />\\n定価：2,000円＋税<br />\\n版型：A5・240ページ<br />\\n出版社：翔泳社<br />\\n<a href=\"https://www.shoeisha.co.jp/book/detail/9784798160078\" rel=\"nofollow ugc noopener\" target=\"_blank\">https://www.shoeisha.co.jp/book/detail/9784798160078</a>\\n<p id=\"p-iframe-image-58821-3\"><span class=\"text-image-caption clearfix editor-image center\"><img alt=\"\" src=\"https://prtimes.jp/i/34873/40/resize/d34873-40-603088-2.jpg\" style=\"width: 250px; height: 354px;\" /></span></p>\\n<br />\\n&nbsp;<br />\\n<strong>■目次</strong><br />\\n序章\\u3000顧客起点マーケティングの全体像<br />\\n第1章\\u3000マーケティングの「アイデア」とN1の意味<br />\\n第2章\\u3000【基礎編】顧客ピラミッドで基本的なマーケティング戦略を構築する<br />\\n第3章\\u3000【応用編】9セグマップ分析で販売促進とブランディングを両立する<br />\\n第4章\\u3000【ケーススタディ】スマートニュースのN1分析とアイデア創出<br />\\n第5章\\u3000デジタル時代の顧客分析の重要性<br />\\n<br />\\n<br />\\n<strong>■著者紹介</strong><br />\\n<strong>西口 一希（にしぐち かずき）</strong><br />\\n大阪大学経済学部卒業後、P＆G入社。マーケティング本部に所属、ブランドマネージャー、マーケティングディレクターを歴任。2006年ロート製薬\\u3000執行役員マーケティング本部長。スキンケア商品の肌ラボを日本一の化粧水に育成、男性用ボディケアブランドのデ・オウを開発、発売1年で男性用全身洗浄料市場でNo.1に育成するなど、スキンケア、医薬品、目薬など60以上のブランドを担当。2015年ロクシタンジャポン代表取締役。2016年にロクシタングループ過去最高利益達成に貢献し、アジア人初のグローバル エグゼクティブ コミッティ メンバーに選出、その後ロクシタン社外取締役 戦略顧問。2017年にスマートニュースへ日本および米国のマーケティング担当 執行役員として参画、累計ダウンロード数5,000万、月間使用者数2,000万人を達成、2019年8月に、企業評価金額が10億ドル（約1,000億）を超える国内3社目のユニコーン企業まで急成長。2019年9月スマートニュースを退社しマーケティング戦略顧問に就任、Strategy Partnersの代表取締役およびM-Force株式会社を共同創業者としてビジネスコンサルタント、投資活動に従事。\\n                            </div>\\n                                                                                                                                                                    </div>\\n\\n                    </div>', 'summary_detail': {'type': 'text/html', 'language': None, 'base': 'https://www.shoeisha.co.jp/rss/index.xml', 'value': '<div class=\"rbody\">\\n                        <div class=\"r-head\">\\n                            株式会社翔泳社（本社：東京都新宿区舟町5、社長：佐々木幹夫）は、書籍『たった一人の分析から事業は成長する 実践 顧客起点マーケティング』（西口 一希／著）を2020年11 月19日（木）～11月25日（水）の期間限定で、全ページ無料公開します。<br />\\nまた、同期間中に本書の感想をTwitterで投稿して、プレゼントが当たるキャンペーンも開催します。<br />\\n<br />\\n全文無料公開ぺージ：<a href=\"https://markezine.jp/mzbooks/campaign/kokyaku\" rel=\"nofollow ugc noopener\" target=\"_blank\">https://markezine.jp/mzbooks/campaign/kokyaku</a>\\n                        </div>\\n                        <div class=\"r-text clearfix\">\\n                            <div class=\"rich-text\">\\n                                <p id=\"p-iframe-image-58821-1\"><span class=\"text-image-caption clearfix editor-image center\"><img alt=\"『実践 顧客起点マーケティング』全文公開\" src=\"https://prtimes.jp/i/34873/40/resize/d34873-40-367334-0.png\" style=\"width: 650px; height: 341px;\" /></span></p>\\n<br />\\n<strong>■P＆Gやスマートニュースなどで数々の実績を上げた著者による、<br />\\n実務に使える1冊。1週間限定で全ページ無料公開</strong><br />\\n<br />\\n「顧客起点マーケティング」とは、1人の顧客を徹底的に理解することで、商品やサービスの新たな可能性を見つけていくことです。一般的な調査では、人の心を動かす「アイデア」はつかめません。たった１人（N１）の行動と心理を深掘りすることで、ビジネスを飛躍させる「アイデア」を生み出すことができるのです。<br />\\n<br />\\n現場で売上と利益の責任を背負ったビジネスパーソンから「役立つ」という声を多数いただいている『実践 顧客起点マーケティング』を、1週間限定で全ページ無料公開します（閲覧には会員登録が必要です）。<br />\\n<br />\\n<strong>無料公開期間：2020年11月19日（木）～11月25日（水）<br />\\n全文無料公開ぺージ：<a href=\"https://markezine.jp/mzbooks/campaign/kokyaku\" rel=\"nofollow ugc noopener\" target=\"_blank\">https://markezine.jp/mzbooks/campaign/kokyaku</a></strong><br />\\n※全文公開を閲覧するにはMarkeZineへの登録（無料）が必要です。<br />\\n<br />\\n&nbsp;<br />\\n<br />\\n<strong>■著者の西口一希氏とオンライン相談ができるかも？</strong><br />\\n<br />\\nまた、同期間に本書の感想をTwitterで投稿いただいた方から、抽選で3名様に著者の西口一希氏との30分オンライン相談＆直筆のサイン本をプレゼントするキャンペーンも開催します。<br />\\nMarkeZine公式Twitterアカウント(@markezine_jp)をフォローし、「#顧客起点マーケティング」のハッシュタグをつけて感想を投稿ください。<br />\\nキャンペーンへの参加詳細は、全文公開ページ（<a href=\"https://markezine.jp/mzbooks/campaign/kokyaku\" rel=\"nofollow ugc noopener\" target=\"_blank\">https://markezine.jp/mzbooks/campaign/kokyaku</a>）をご覧ください。\\n<p id=\"p-iframe-image-58821-2\"><span class=\"text-image-caption clearfix editor-image center\"><img alt=\"\" src=\"https://prtimes.jp/i/34873/40/resize/d34873-40-390741-1.png\" style=\"width: 650px; height: 406px;\" /></span></p>\\n<br />\\n&nbsp;<br />\\n■<strong>書籍概要</strong><br />\\n<strong>『たった一人の分析から事業は成長する 実践 顧客起点マーケティング（MarkeZine BOOKS）』</strong><br />\\n著者：西口 一希<br />\\n発売日：2019年4月8日<br />\\n定価：2,000円＋税<br />\\n版型：A5・240ページ<br />\\n出版社：翔泳社<br />\\n<a href=\"https://www.shoeisha.co.jp/book/detail/9784798160078\" rel=\"nofollow ugc noopener\" target=\"_blank\">https://www.shoeisha.co.jp/book/detail/9784798160078</a>\\n<p id=\"p-iframe-image-58821-3\"><span class=\"text-image-caption clearfix editor-image center\"><img alt=\"\" src=\"https://prtimes.jp/i/34873/40/resize/d34873-40-603088-2.jpg\" style=\"width: 250px; height: 354px;\" /></span></p>\\n<br />\\n&nbsp;<br />\\n<strong>■目次</strong><br />\\n序章\\u3000顧客起点マーケティングの全体像<br />\\n第1章\\u3000マーケティングの「アイデア」とN1の意味<br />\\n第2章\\u3000【基礎編】顧客ピラミッドで基本的なマーケティング戦略を構築する<br />\\n第3章\\u3000【応用編】9セグマップ分析で販売促進とブランディングを両立する<br />\\n第4章\\u3000【ケーススタディ】スマートニュースのN1分析とアイデア創出<br />\\n第5章\\u3000デジタル時代の顧客分析の重要性<br />\\n<br />\\n<br />\\n<strong>■著者紹介</strong><br />\\n<strong>西口 一希（にしぐち かずき）</strong><br />\\n大阪大学経済学部卒業後、P＆G入社。マーケティング本部に所属、ブランドマネージャー、マーケティングディレクターを歴任。2006年ロート製薬\\u3000執行役員マーケティング本部長。スキンケア商品の肌ラボを日本一の化粧水に育成、男性用ボディケアブランドのデ・オウを開発、発売1年で男性用全身洗浄料市場でNo.1に育成するなど、スキンケア、医薬品、目薬など60以上のブランドを担当。2015年ロクシタンジャポン代表取締役。2016年にロクシタングループ過去最高利益達成に貢献し、アジア人初のグローバル エグゼクティブ コミッティ メンバーに選出、その後ロクシタン社外取締役 戦略顧問。2017年にスマートニュースへ日本および米国のマーケティング担当 執行役員として参画、累計ダウンロード数5,000万、月間使用者数2,000万人を達成、2019年8月に、企業評価金額が10億ドル（約1,000億）を超える国内3社目のユニコーン企業まで急成長。2019年9月スマートニュースを退社しマーケティング戦略顧問に就任、Strategy Partnersの代表取締役およびM-Force株式会社を共同創業者としてビジネスコンサルタント、投資活動に従事。\\n                            </div>\\n                                                                                                                                                                    </div>\\n\\n                    </div>'}}, {'title': '新刊『カリスマシッターが教える“困ったとき”の育児ワザ 寝ない子もぐずる子もおまかせ！』0~5歳の育児のお悩みを大人気シッターが解消します', 'title_detail': {'type': 'text/plain', 'language': None, 'base': 'https://www.shoeisha.co.jp/rss/index.xml', 'value': '新刊『カリスマシッターが教える“困ったとき”の育児ワザ 寝ない子もぐずる子もおまかせ！』0~5歳の育児のお悩みを大人気シッターが解消します'}, 'authors': [{'name': '翔泳社'}], 'author': '翔泳社', 'author_detail': {'name': '翔泳社'}, 'links': [{'rel': 'alternate', 'type': 'text/html', 'href': 'http://www.shoeisha.co.jp/press/detail/545'}], 'link': 'http://www.shoeisha.co.jp/press/detail/545', 'published': 'Wed, 11 Nov 2020 11:00:05 +0900', 'published_parsed': time.struct_time(tm_year=2020, tm_mon=11, tm_mday=11, tm_hour=2, tm_min=0, tm_sec=5, tm_wday=2, tm_yday=316, tm_isdst=0), 'summary': '<div class=\"rbody\">\\n                        <div class=\"r-head\">\\n                            株式会社翔泳社（本社：東京都新宿区舟町5、社長：佐々木幹夫）は、2020年11月11日に『カリスマシッターが教える“困ったとき”の育児ワザ 寝ない子もぐずる子もおまかせ！』を発売します。本書は、大人気シッターたちに聞いた、0～5歳の子育てがちょっと楽になるテクニックや遊びのネタをまとめた1冊です。<br />\\n<br />\\n書籍概要：<a href=\"https://www.shoeisha.co.jp/book/detail/9784798164670\" rel=\"nofollow ugc noopener\" target=\"_blank\">https://www.shoeisha.co.jp/book/detail/9784798164670</a>\\n                        </div>\\n                        <div class=\"r-text clearfix\">\\n                            <div class=\"rich-text\">\\n                                <p id=\"p-iframe-image-30193-1\"><span class=\"text-image-caption clearfix editor-image center\"><img alt=\"カリスマシッターが教える“困ったとき”の育児ワザ 寝ない子もぐずる子もおまかせ！（翔泳社）\" src=\"https://prtimes.jp/i/34873/37/resize/d34873-37-516356-0.jpg\" style=\"width: 306px; height: 449px;\" /></span></p>\\n<br />\\n<strong>大人気シッターがお悩みにお答えします！</strong><br />\\n小さな子どもとの生活では、その年齢ごとに様々な悩みごとや困りごとに直面します。そんな時に役立つ、対応の仕方や考え方、とっておきのワザなどを5人の人気シッターたちに聞きました。<br />\\nどんなお子さんとも仲良くなれるシッティングのプロだからこその、成長や発達につながる働きかけのコツやあそび方も伝授します。<br />\\n毎日子育てに向き合うパパ・ママだけでなく、孫育て世代のじいじ、ばあばにもおすすめです。&nbsp;<br />\\n<br />\\n<strong>▼０～１歳のお悩み：<br />\\n毎日の寝かしつけがうまくいかない。どうしたらスムーズに寝てくれる?</strong>\\n\\n<table border=\"1\" cellpadding=\"6\" style=\"width: 700px; border: 1px solid #000;\">\\n <tbody>\\n  <tr>\\n   <td style=\"padding: 10px;\">私が寝かしつけをする際は、就寝の30分前くらいから少しずつ部屋を暗くして、こもりうたなどを歌うようにしています。そのときは、曲はなんでもいいので、お名前を歌詞に入れて歌うようにします。安心するのか、体の力が抜けていきます。</td>\\n  </tr>\\n </tbody>\\n</table>\\n\\n<p>&nbsp;</p>\\n<br />\\n<strong>▼４～５歳のお悩み<br />\\nいつも同じようなことで叱ってばかり&hellip;&hellip;。シッターはどんな風に伝える?</strong>\\n\\n<table border=\"1\" cellpadding=\"6\" style=\"width: 700px; border: 1px solid #000;\">\\n <tbody>\\n  <tr>\\n   <td style=\"padding: 10px;\">叱るというよりもお子さんが考える時間をつくる、というイメージでお話をします。<br />\\n   最初から「ダメ」と言ってしまうとそこで終わってしまうので、「どうしたの?」とまずは聞いてみる。お子さんの気持ちも尊重しながら、あくまでもこちらからのリクエストとして提案してみる。それが受け入れられなくても、否定はしません。でも、行動を変えてくれたら、「ありがとう」と言います。その繰り返しですね。</td>\\n  </tr>\\n </tbody>\\n</table>\\n\\n<p>&nbsp;</p>\\n<br />\\n<strong>■書籍情報</strong><br />\\n<strong>『カリスマシッターが教える&ldquo;困ったとき&rdquo;の育児ワザ 寝ない子もぐずる子もおまかせ！』</strong><br />\\n編集：育児サポートを考える会<br />\\n発売日：2020年11月11日<br />\\n定価：1,300円（税別）<br />\\n判型：四六・144ページ<br />\\n出版社：翔泳社<br />\\nISBN：9784798164670<br />\\n<a href=\"https://www.shoeisha.co.jp/book/detail/9784798164670\" rel=\"nofollow ugc noopener\" target=\"_blank\">https://www.shoeisha.co.jp/book/detail/9784798164670</a><br />\\n<br />\\n全国の書店、ネット書店などでご購入いただけます<br />\\n・翔泳社の通販 SEshop: <a href=\"https://www.seshop.com/product/detail/23695\" rel=\"nofollow ugc noopener\" target=\"_blank\">https://www.seshop.com/product/detail/23695</a><br />\\n・Amazon: <a href=\"https://www.amazon.co.jp/dp/4798164674\" rel=\"nofollow ugc noopener\" target=\"_blank\">https://www.amazon.co.jp/dp/4798164674</a><br />\\n<br />\\n<br />\\n<strong>■目次</strong><br />\\n第1部\\u3000大人気シッターがお悩みにお答えします！<br />\\n1章\\u30000〜1歳の育児おなやみ<br />\\n2章\\u30002〜3歳の育児おなやみ<br />\\n3章\\u30004〜5歳の育児おなやみ<br />\\nColumn\\u3000人気シッターに聞く！（1）真似したいおうちのインテリア<br />\\n第2部\\u3000もう&ldquo;間が持たない&rdquo;と悩まない！\\u3000絶対に子供ウケするあそび<br />\\n4章\\u30000〜1歳のあそび方<br />\\n5章\\u30002〜3歳のあそび方<br />\\n6章\\u30004〜5歳のあそび方<br />\\nColumn\\u3000人気シッターに聞く！（2）子どもが飽きないお散歩の楽しみ方<br />\\n第3部\\u3000真似したいヒントが満載！\\u3000大人気シッターのおしごと拝見<br />\\n7章\\u3000シッターの1日シッティングプラン<br />\\n8章\\u3000シッターのチェックリスト<br />\\nColumn\\u3000人気シッターに聞く！（3）家事をあそびに変えるワザ\\n                            </div>\\n                                                                                                                                                                    </div>\\n\\n                    </div>', 'summary_detail': {'type': 'text/html', 'language': None, 'base': 'https://www.shoeisha.co.jp/rss/index.xml', 'value': '<div class=\"rbody\">\\n                        <div class=\"r-head\">\\n                            株式会社翔泳社（本社：東京都新宿区舟町5、社長：佐々木幹夫）は、2020年11月11日に『カリスマシッターが教える“困ったとき”の育児ワザ 寝ない子もぐずる子もおまかせ！』を発売します。本書は、大人気シッターたちに聞いた、0～5歳の子育てがちょっと楽になるテクニックや遊びのネタをまとめた1冊です。<br />\\n<br />\\n書籍概要：<a href=\"https://www.shoeisha.co.jp/book/detail/9784798164670\" rel=\"nofollow ugc noopener\" target=\"_blank\">https://www.shoeisha.co.jp/book/detail/9784798164670</a>\\n                        </div>\\n                        <div class=\"r-text clearfix\">\\n                            <div class=\"rich-text\">\\n                                <p id=\"p-iframe-image-30193-1\"><span class=\"text-image-caption clearfix editor-image center\"><img alt=\"カリスマシッターが教える“困ったとき”の育児ワザ 寝ない子もぐずる子もおまかせ！（翔泳社）\" src=\"https://prtimes.jp/i/34873/37/resize/d34873-37-516356-0.jpg\" style=\"width: 306px; height: 449px;\" /></span></p>\\n<br />\\n<strong>大人気シッターがお悩みにお答えします！</strong><br />\\n小さな子どもとの生活では、その年齢ごとに様々な悩みごとや困りごとに直面します。そんな時に役立つ、対応の仕方や考え方、とっておきのワザなどを5人の人気シッターたちに聞きました。<br />\\nどんなお子さんとも仲良くなれるシッティングのプロだからこその、成長や発達につながる働きかけのコツやあそび方も伝授します。<br />\\n毎日子育てに向き合うパパ・ママだけでなく、孫育て世代のじいじ、ばあばにもおすすめです。&nbsp;<br />\\n<br />\\n<strong>▼０～１歳のお悩み：<br />\\n毎日の寝かしつけがうまくいかない。どうしたらスムーズに寝てくれる?</strong>\\n\\n<table border=\"1\" cellpadding=\"6\" style=\"width: 700px; border: 1px solid #000;\">\\n <tbody>\\n  <tr>\\n   <td style=\"padding: 10px;\">私が寝かしつけをする際は、就寝の30分前くらいから少しずつ部屋を暗くして、こもりうたなどを歌うようにしています。そのときは、曲はなんでもいいので、お名前を歌詞に入れて歌うようにします。安心するのか、体の力が抜けていきます。</td>\\n  </tr>\\n </tbody>\\n</table>\\n\\n<p>&nbsp;</p>\\n<br />\\n<strong>▼４～５歳のお悩み<br />\\nいつも同じようなことで叱ってばかり&hellip;&hellip;。シッターはどんな風に伝える?</strong>\\n\\n<table border=\"1\" cellpadding=\"6\" style=\"width: 700px; border: 1px solid #000;\">\\n <tbody>\\n  <tr>\\n   <td style=\"padding: 10px;\">叱るというよりもお子さんが考える時間をつくる、というイメージでお話をします。<br />\\n   最初から「ダメ」と言ってしまうとそこで終わってしまうので、「どうしたの?」とまずは聞いてみる。お子さんの気持ちも尊重しながら、あくまでもこちらからのリクエストとして提案してみる。それが受け入れられなくても、否定はしません。でも、行動を変えてくれたら、「ありがとう」と言います。その繰り返しですね。</td>\\n  </tr>\\n </tbody>\\n</table>\\n\\n<p>&nbsp;</p>\\n<br />\\n<strong>■書籍情報</strong><br />\\n<strong>『カリスマシッターが教える&ldquo;困ったとき&rdquo;の育児ワザ 寝ない子もぐずる子もおまかせ！』</strong><br />\\n編集：育児サポートを考える会<br />\\n発売日：2020年11月11日<br />\\n定価：1,300円（税別）<br />\\n判型：四六・144ページ<br />\\n出版社：翔泳社<br />\\nISBN：9784798164670<br />\\n<a href=\"https://www.shoeisha.co.jp/book/detail/9784798164670\" rel=\"nofollow ugc noopener\" target=\"_blank\">https://www.shoeisha.co.jp/book/detail/9784798164670</a><br />\\n<br />\\n全国の書店、ネット書店などでご購入いただけます<br />\\n・翔泳社の通販 SEshop: <a href=\"https://www.seshop.com/product/detail/23695\" rel=\"nofollow ugc noopener\" target=\"_blank\">https://www.seshop.com/product/detail/23695</a><br />\\n・Amazon: <a href=\"https://www.amazon.co.jp/dp/4798164674\" rel=\"nofollow ugc noopener\" target=\"_blank\">https://www.amazon.co.jp/dp/4798164674</a><br />\\n<br />\\n<br />\\n<strong>■目次</strong><br />\\n第1部\\u3000大人気シッターがお悩みにお答えします！<br />\\n1章\\u30000〜1歳の育児おなやみ<br />\\n2章\\u30002〜3歳の育児おなやみ<br />\\n3章\\u30004〜5歳の育児おなやみ<br />\\nColumn\\u3000人気シッターに聞く！（1）真似したいおうちのインテリア<br />\\n第2部\\u3000もう&ldquo;間が持たない&rdquo;と悩まない！\\u3000絶対に子供ウケするあそび<br />\\n4章\\u30000〜1歳のあそび方<br />\\n5章\\u30002〜3歳のあそび方<br />\\n6章\\u30004〜5歳のあそび方<br />\\nColumn\\u3000人気シッターに聞く！（2）子どもが飽きないお散歩の楽しみ方<br />\\n第3部\\u3000真似したいヒントが満載！\\u3000大人気シッターのおしごと拝見<br />\\n7章\\u3000シッターの1日シッティングプラン<br />\\n8章\\u3000シッターのチェックリスト<br />\\nColumn\\u3000人気シッターに聞く！（3）家事をあそびに変えるワザ\\n                            </div>\\n                                                                                                                                                                    </div>\\n\\n                    </div>'}}], 'feed': {'title': '翔泳社 お知らせ', 'title_detail': {'type': 'text/plain', 'language': None, 'base': 'https://www.shoeisha.co.jp/rss/index.xml', 'value': '翔泳社 お知らせ'}, 'subtitle': '翔泳社 お知らせ', 'subtitle_detail': {'type': 'text/html', 'language': None, 'base': 'https://www.shoeisha.co.jp/rss/index.xml', 'value': '翔泳社 お知らせ'}, 'links': [{'rel': 'alternate', 'type': 'text/html', 'href': 'https://www.shoeisha.co.jp/rss/index.xml'}], 'link': 'https://www.shoeisha.co.jp/rss/index.xml', 'published': 'Tue, 09 Feb 2021 22:56:58 +0900', 'published_parsed': time.struct_time(tm_year=2021, tm_mon=2, tm_mday=9, tm_hour=13, tm_min=56, tm_sec=58, tm_wday=1, tm_yday=40, tm_isdst=0)}, 'headers': {'server': 'nginx', 'date': 'Tue, 09 Feb 2021 13:56:58 GMT', 'content-type': 'text/xml; charset=UTF-8', 'transfer-encoding': 'chunked', 'connection': 'close', 'x-cache': 'Miss from shoeisha', 'cache-control': 'private, must-revalidate', 'pragma': 'no-cache', 'expires': '-1', 'set-cookie': '53076cd202b2bfe1d4272751ac23b30521e7485c=eyJpdiI6IlRsVHk5cG1YMVFsa3hxa0ZUcG1tTHc9PSIsInZhbHVlIjoiWkYyZ0xpcnVhSHgxN3MwdDR2TDZXQU1yYTVMV0ZkRndHVHRhcWNBV3d1NGhSTlMyVU90RXd5NnJ0M2pkZjhXdDcwT3pNOVEwbXZiR1gyYkFxS0QyZmtraEtGKzkxOG9NTFBSNnhDWUx2cUQrSUxoYVA4VGx3S3ZIUE9uRmtHR0ZyYW14M3UwTkRHNHVIRVlrSkNOXC9DdHBwTG1DRXZSd2lwSytOMUl6cnBYTmh5QmRnZG1cL25sdGdBNEt1R2JySEY0endlWHBiYjE3ck54czRlWm1yVE9GWDk4VmxrdUd3cEZnRnpERlBLbnRleTN4MDVYUElkOGJ1YkJ0MnhKbEdnclwvbDNnaWpxM2tBMlAyaWx3WUR5OWc9PSIsIm1hYyI6ImQzZDU2NzQxZmRiZWEzMTFlMmU0NDNhZTkzZTdkOTU0YTY5NjA4NmU1MGIwYzc1YmZkNGFmOWI4Njk2ODg4NmUifQ%3D%3D; expires=Tue, 09-Feb-2021 15:56:58 GMT; path=/; httponly'}, 'href': 'https://www.shoeisha.co.jp/rss/index.xml', 'status': 200, 'encoding': 'UTF-8', 'version': 'rss20', 'namespaces': {'content': 'http://purl.org/rss/1.0/modules/content/', 'wfw': 'http://wellformedweb.org/CommentAPI/', 'dc': 'http://purl.org/dc/elements/1.1/', '': 'http://www.w3.org/2005/Atom', 'sy': 'http://purl.org/rss/1.0/modules/syndication/', 'slash': 'http://purl.org/rss/1.0/modules/slash/'}}\n"
     ]
    }
   ],
   "source": [
    "import feedparser\n",
    "\n",
    "#URLを指定してFeedParserDictオブジェクトを取得する\n",
    "rss=feedparser.parse('https://www.shoeisha.co.jp/rss/index.xml')\n",
    "print(rss)"
   ]
  },
  {
   "cell_type": "code",
   "execution_count": 11,
   "metadata": {},
   "outputs": [
    {
     "output_type": "execute_result",
     "data": {
      "text/plain": [
       "{'title': '翔泳社 お知らせ',\n",
       " 'title_detail': {'type': 'text/plain',\n",
       "  'language': None,\n",
       "  'base': 'https://www.shoeisha.co.jp/rss/index.xml',\n",
       "  'value': '翔泳社 お知らせ'},\n",
       " 'subtitle': '翔泳社 お知らせ',\n",
       " 'subtitle_detail': {'type': 'text/html',\n",
       "  'language': None,\n",
       "  'base': 'https://www.shoeisha.co.jp/rss/index.xml',\n",
       "  'value': '翔泳社 お知らせ'},\n",
       " 'links': [{'rel': 'alternate',\n",
       "   'type': 'text/html',\n",
       "   'href': 'https://www.shoeisha.co.jp/rss/index.xml'}],\n",
       " 'link': 'https://www.shoeisha.co.jp/rss/index.xml',\n",
       " 'published': 'Tue, 09 Feb 2021 20:01:36 +0900',\n",
       " 'published_parsed': time.struct_time(tm_year=2021, tm_mon=2, tm_mday=9, tm_hour=11, tm_min=1, tm_sec=36, tm_wday=1, tm_yday=40, tm_isdst=0)}"
      ]
     },
     "metadata": {},
     "execution_count": 11
    }
   ],
   "source": [
    "rss['feed']"
   ]
  },
  {
   "cell_type": "code",
   "execution_count": 10,
   "metadata": {},
   "outputs": [
    {
     "output_type": "stream",
     "name": "stdout",
     "text": [
      "翔泳社 お知らせ\nTue, 09 Feb 2021 22:56:58 +0900\n"
     ]
    }
   ],
   "source": [
    "#フィードのタイトルとコンテンツの発行日時を表示\n",
    "print(rss['feed']['title'])\n",
    "print(rss['feed']['published'])"
   ]
  },
  {
   "cell_type": "code",
   "execution_count": 11,
   "metadata": {
    "tags": [
     "outputPrepend"
    ]
   },
   "outputs": [
    {
     "output_type": "stream",
     "name": "stdout",
     "text": [
      "まで、趣味から仕事まで、今後も役立つコンテンツを提供してまいります。<br />\\n&nbsp;<br />\\n<strong>■注目のタイトルはこちら</strong><br />\\n<br />\\n<strong>『失敗しないデザイン』</strong>\\n\\n<p id=\"p-iframe-image-87624-2\"><span class=\"text-image-caption clearfix editor-image floatright\"><img alt=\"\" src=\"https://prtimes.jp/i/34873/41/resize/d34873-41-983768-1.jpg\" style=\"width: 120px; height: 170px;\" /></span></p>\\n著者：平本 久美子<br />\\n価格：1,800円＋税（Kindle：50%OFF、SEshop：50%ポイント還元）<br />\\n全国で人気の、デザイン入門セミナーの講義が実況中継のようにスイスイ読める。簡単なのに効果的な、デザインの考え方とコツ。<br />\\n&nbsp;<br />\\n<br />\\n<br />\\n<br />\\n<br />\\n<strong>『Python 1年生 体験してわかる！会話でまなべる！プログラミングのしくみ』</strong>\\n\\n<p id=\"p-iframe-image-87624-3\"><span class=\"text-image-caption clearfix editor-image floatright\"><img alt=\"\" src=\"https://prtimes.jp/i/34873/41/resize/d34873-41-150662-2.jpg\" style=\"width: 120px; height: 151px;\" /></span></p>\\n著者：森 巧尚<br />\\n価格：1.980円＋税（Kindle：50%OFF、SEshop：50%ポイント還元）<br />\\nPython初心者でも安心して学べる超入門書の登場！<br />\\n&nbsp;<br />\\n<br />\\n<br />\\n<br />\\n<br />\\n<strong>『THE MODEL（MarkeZine BOOKS） マーケティング・インサイドセールス・営業・カスタマーサクセスの共業プロセス』</strong>\\n\\n<p id=\"p-iframe-image-87624-4\"><span class=\"text-image-caption clearfix editor-image floatright\"><img alt=\"\" src=\"https://prtimes.jp/i/34873/41/resize/d34873-41-401297-3.jpg\" style=\"width: 120px; height: 176px;\" /></span></p>\\n著者：福田 康隆<br />\\n価格：1,800円＋税（Kindle：50%OFF、SEshop：50%ポイント還元）<br />\\nこれまでの営業スタイルはもう通用しない。IT企業が築き上げた新たなマーケティングと営業のプロセス、市場戦略を徹底解説。<br />\\n&nbsp;<br />\\n<br />\\n<br />\\n<br />\\n<br />\\n<strong>『SCRUM BOOT CAMP THE BOOK【増補改訂版】&nbsp;スクラムチームではじめるアジャイル開発』</strong>\\n\\n<p id=\"p-iframe-image-87624-5\"><span class=\"text-image-caption clearfix editor-image floatright\"><img alt=\"\" src=\"https://prtimes.jp/i/34873/41/resize/d34873-41-505715-4.jpg\" style=\"width: 120px; height: 169px;\" /></span></p>\\n著者：西村 直人・永瀬 美穂・吉羽 龍太郎<br />\\n価格：2,400円＋税（Kindle：50%OFF、SEshop：50%ポイント還元）<br />\\n架空の開発現場を題材に、実際のプラクティスを24のステップで、実際の開発現場にどう適用すればよいのかをわかりやすく解説。<br />\\n&nbsp;<br />\\n<br />\\n<br />\\n<br />\\n<strong>■キャンペーン概要</strong><br />\\n実施期間：2020年11月20日（金）～12月1日（火）<br />\\n実施ストア：Kindle、SEshop<br />\\n内容：翔泳社の電子書籍900点以上が50％OFFまたは50％ポイント還元<br />\\n特設ページ：<a href=\"https://www.shoeisha.co.jp/book/campaign/ebook202011?PR\" rel=\"nofollow ugc noopener\" target=\"_blank\">https://www.shoeisha.co.jp/book/campaign/ebook202011?PR</a><br />\\n<br />\\n&nbsp;<br />\\n<strong>■キャンペーン対象タイトルより一部抜粋</strong><br />\\n・失敗しないデザイン<br />\\n・Python 1年生 体験してわかる！会話でまなべる！プログラミングのしくみ<br />\\n・THE MODEL（MarkeZine BOOKS） マーケティング・インサイドセールス・営業・カスタマーサクセスの共業プロセス<br />\\n・SCRUM BOOT CAMP THE BOOK【増補改訂版】スクラムチームではじめるアジャイル開発<br />\\n・Adobe XDではじめるWebデザイン＆プロトタイピング 一歩先行く現場のスキル<br />\\n・シスコ技術者認定教科書 CCNA 完全合格テキスト＆問題集［対応試験］200 -301<br />\\n・たった一人の分析から事業は成長する 実践 顧客起点マーケティング（MarkeZine BOOKS）<br />\\n・ドメイン駆動設計入門 ボトムアップでわかる！ドメイン駆動設計の基本<br />\\n・深層学習教科書 ディープラーニング G検定（ジェネラリスト） 公式テキスト<br />\\n・独習Python<br />\\n・チーム・ジャーニー 逆境を越える、変化に強いチームをつくりあげるまで<br />\\n・Python2年生 スクレイピングのしくみ 体験してわかる！会話でまなべる！<br />\\n・やってはいけないデザイン<br />\\n・技術者のためのテクニカルライティング入門講座<br />\\n・見て試してわかる機械学習アルゴリズムの仕組み 機械学習図鑑<br />\\n・暗号技術のすべて<br />\\n・作るもの・作る人・作り方から学ぶ 採用・人事担当者のためのITエンジニアリングの基本がわかる本<br />\\n・「実践ドメイン駆動設計」から学ぶDDDの実装入門<br />\\n<br />\\n※詳細は特設ページをご参照ください（内容は実施ストアによって異なります）\\n                            </div>\\n                                                                                                                                                                    </div>\\n\\n                    </div>'}}, {'title': '書籍『実践 顧客起点マーケティング』無料で全文公開！著者：西口一希氏へオンライン相談できるキャンペーンも開催中', 'title_detail': {'type': 'text/plain', 'language': None, 'base': 'https://www.shoeisha.co.jp/rss/index.xml', 'value': '書籍『実践 顧客起点マーケティング』無料で全文公開！著者：西口一希氏へオンライン相談できるキャンペーンも開催中'}, 'authors': [{'name': '翔泳社'}], 'author': '翔泳社', 'author_detail': {'name': '翔泳社'}, 'links': [{'rel': 'alternate', 'type': 'text/html', 'href': 'http://www.shoeisha.co.jp/press/detail/546'}], 'link': 'http://www.shoeisha.co.jp/press/detail/546', 'published': 'Thu, 19 Nov 2020 12:00:09 +0900', 'published_parsed': time.struct_time(tm_year=2020, tm_mon=11, tm_mday=19, tm_hour=3, tm_min=0, tm_sec=9, tm_wday=3, tm_yday=324, tm_isdst=0), 'summary': '<div class=\"rbody\">\\n                        <div class=\"r-head\">\\n                            株式会社翔泳社（本社：東京都新宿区舟町5、社長：佐々木幹夫）は、書籍『たった一人の分析から事業は成長する 実践 顧客起点マーケティング』（西口 一希／著）を2020年11 月19日（木）～11月25日（水）の期間限定で、全ページ無料公開します。<br />\\nまた、同期間中に本書の感想をTwitterで投稿して、プレゼントが当たるキャンペーンも開催します。<br />\\n<br />\\n全文無料公開ぺージ：<a href=\"https://markezine.jp/mzbooks/campaign/kokyaku\" rel=\"nofollow ugc noopener\" target=\"_blank\">https://markezine.jp/mzbooks/campaign/kokyaku</a>\\n                        </div>\\n                        <div class=\"r-text clearfix\">\\n                            <div class=\"rich-text\">\\n                                <p id=\"p-iframe-image-58821-1\"><span class=\"text-image-caption clearfix editor-image center\"><img alt=\"『実践 顧客起点マーケティング』全文公開\" src=\"https://prtimes.jp/i/34873/40/resize/d34873-40-367334-0.png\" style=\"width: 650px; height: 341px;\" /></span></p>\\n<br />\\n<strong>■P＆Gやスマートニュースなどで数々の実績を上げた著者による、<br />\\n実務に使える1冊。1週間限定で全ページ無料公開</strong><br />\\n<br />\\n「顧客起点マーケティング」とは、1人の顧客を徹底的に理解することで、商品やサービスの新たな可能性を見つけていくことです。一般的な調査では、人の心を動かす「アイデア」はつかめません。たった１人（N１）の行動と心理を深掘りすることで、ビジネスを飛躍させる「アイデア」を生み出すことができるのです。<br />\\n<br />\\n現場で売上と利益の責任を背負ったビジネスパーソンから「役立つ」という声を多数いただいている『実践 顧客起点マーケティング』を、1週間限定で全ページ無料公開します（閲覧には会員登録が必要です）。<br />\\n<br />\\n<strong>無料公開期間：2020年11月19日（木）～11月25日（水）<br />\\n全文無料公開ぺージ：<a href=\"https://markezine.jp/mzbooks/campaign/kokyaku\" rel=\"nofollow ugc noopener\" target=\"_blank\">https://markezine.jp/mzbooks/campaign/kokyaku</a></strong><br />\\n※全文公開を閲覧するにはMarkeZineへの登録（無料）が必要です。<br />\\n<br />\\n&nbsp;<br />\\n<br />\\n<strong>■著者の西口一希氏とオンライン相談ができるかも？</strong><br />\\n<br />\\nまた、同期間に本書の感想をTwitterで投稿いただいた方から、抽選で3名様に著者の西口一希氏との30分オンライン相談＆直筆のサイン本をプレゼントするキャンペーンも開催します。<br />\\nMarkeZine公式Twitterアカウント(@markezine_jp)をフォローし、「#顧客起点マーケティング」のハッシュタグをつけて感想を投稿ください。<br />\\nキャンペーンへの参加詳細は、全文公開ページ（<a href=\"https://markezine.jp/mzbooks/campaign/kokyaku\" rel=\"nofollow ugc noopener\" target=\"_blank\">https://markezine.jp/mzbooks/campaign/kokyaku</a>）をご覧ください。\\n<p id=\"p-iframe-image-58821-2\"><span class=\"text-image-caption clearfix editor-image center\"><img alt=\"\" src=\"https://prtimes.jp/i/34873/40/resize/d34873-40-390741-1.png\" style=\"width: 650px; height: 406px;\" /></span></p>\\n<br />\\n&nbsp;<br />\\n■<strong>書籍概要</strong><br />\\n<strong>『たった一人の分析から事業は成長する 実践 顧客起点マーケティング（MarkeZine BOOKS）』</strong><br />\\n著者：西口 一希<br />\\n発売日：2019年4月8日<br />\\n定価：2,000円＋税<br />\\n版型：A5・240ページ<br />\\n出版社：翔泳社<br />\\n<a href=\"https://www.shoeisha.co.jp/book/detail/9784798160078\" rel=\"nofollow ugc noopener\" target=\"_blank\">https://www.shoeisha.co.jp/book/detail/9784798160078</a>\\n<p id=\"p-iframe-image-58821-3\"><span class=\"text-image-caption clearfix editor-image center\"><img alt=\"\" src=\"https://prtimes.jp/i/34873/40/resize/d34873-40-603088-2.jpg\" style=\"width: 250px; height: 354px;\" /></span></p>\\n<br />\\n&nbsp;<br />\\n<strong>■目次</strong><br />\\n序章\\u3000顧客起点マーケティングの全体像<br />\\n第1章\\u3000マーケティングの「アイデア」とN1の意味<br />\\n第2章\\u3000【基礎編】顧客ピラミッドで基本的なマーケティング戦略を構築する<br />\\n第3章\\u3000【応用編】9セグマップ分析で販売促進とブランディングを両立する<br />\\n第4章\\u3000【ケーススタディ】スマートニュースのN1分析とアイデア創出<br />\\n第5章\\u3000デジタル時代の顧客分析の重要性<br />\\n<br />\\n<br />\\n<strong>■著者紹介</strong><br />\\n<strong>西口 一希（にしぐち かずき）</strong><br />\\n大阪大学経済学部卒業後、P＆G入社。マーケティング本部に所属、ブランドマネージャー、マーケティングディレクターを歴任。2006年ロート製薬\\u3000執行役員マーケティング本部長。スキンケア商品の肌ラボを日本一の化粧水に育成、男性用ボディケアブランドのデ・オウを開発、発売1年で男性用全身洗浄料市場でNo.1に育成するなど、スキンケア、医薬品、目薬など60以上のブランドを担当。2015年ロクシタンジャポン代表取締役。2016年にロクシタングループ過去最高利益達成に貢献し、アジア人初のグローバル エグゼクティブ コミッティ メンバーに選出、その後ロクシタン社外取締役 戦略顧問。2017年にスマートニュースへ日本および米国のマーケティング担当 執行役員として参画、累計ダウンロード数5,000万、月間使用者数2,000万人を達成、2019年8月に、企業評価金額が10億ドル（約1,000億）を超える国内3社目のユニコーン企業まで急成長。2019年9月スマートニュースを退社しマーケティング戦略顧問に就任、Strategy Partnersの代表取締役およびM-Force株式会社を共同創業者としてビジネスコンサルタント、投資活動に従事。\\n                            </div>\\n                                                                                                                                                                    </div>\\n\\n                    </div>', 'summary_detail': {'type': 'text/html', 'language': None, 'base': 'https://www.shoeisha.co.jp/rss/index.xml', 'value': '<div class=\"rbody\">\\n                        <div class=\"r-head\">\\n                            株式会社翔泳社（本社：東京都新宿区舟町5、社長：佐々木幹夫）は、書籍『たった一人の分析から事業は成長する 実践 顧客起点マーケティング』（西口 一希／著）を2020年11 月19日（木）～11月25日（水）の期間限定で、全ページ無料公開します。<br />\\nまた、同期間中に本書の感想をTwitterで投稿して、プレゼントが当たるキャンペーンも開催します。<br />\\n<br />\\n全文無料公開ぺージ：<a href=\"https://markezine.jp/mzbooks/campaign/kokyaku\" rel=\"nofollow ugc noopener\" target=\"_blank\">https://markezine.jp/mzbooks/campaign/kokyaku</a>\\n                        </div>\\n                        <div class=\"r-text clearfix\">\\n                            <div class=\"rich-text\">\\n                                <p id=\"p-iframe-image-58821-1\"><span class=\"text-image-caption clearfix editor-image center\"><img alt=\"『実践 顧客起点マーケティング』全文公開\" src=\"https://prtimes.jp/i/34873/40/resize/d34873-40-367334-0.png\" style=\"width: 650px; height: 341px;\" /></span></p>\\n<br />\\n<strong>■P＆Gやスマートニュースなどで数々の実績を上げた著者による、<br />\\n実務に使える1冊。1週間限定で全ページ無料公開</strong><br />\\n<br />\\n「顧客起点マーケティング」とは、1人の顧客を徹底的に理解することで、商品やサービスの新たな可能性を見つけていくことです。一般的な調査では、人の心を動かす「アイデア」はつかめません。たった１人（N１）の行動と心理を深掘りすることで、ビジネスを飛躍させる「アイデア」を生み出すことができるのです。<br />\\n<br />\\n現場で売上と利益の責任を背負ったビジネスパーソンから「役立つ」という声を多数いただいている『実践 顧客起点マーケティング』を、1週間限定で全ページ無料公開します（閲覧には会員登録が必要です）。<br />\\n<br />\\n<strong>無料公開期間：2020年11月19日（木）～11月25日（水）<br />\\n全文無料公開ぺージ：<a href=\"https://markezine.jp/mzbooks/campaign/kokyaku\" rel=\"nofollow ugc noopener\" target=\"_blank\">https://markezine.jp/mzbooks/campaign/kokyaku</a></strong><br />\\n※全文公開を閲覧するにはMarkeZineへの登録（無料）が必要です。<br />\\n<br />\\n&nbsp;<br />\\n<br />\\n<strong>■著者の西口一希氏とオンライン相談ができるかも？</strong><br />\\n<br />\\nまた、同期間に本書の感想をTwitterで投稿いただいた方から、抽選で3名様に著者の西口一希氏との30分オンライン相談＆直筆のサイン本をプレゼントするキャンペーンも開催します。<br />\\nMarkeZine公式Twitterアカウント(@markezine_jp)をフォローし、「#顧客起点マーケティング」のハッシュタグをつけて感想を投稿ください。<br />\\nキャンペーンへの参加詳細は、全文公開ページ（<a href=\"https://markezine.jp/mzbooks/campaign/kokyaku\" rel=\"nofollow ugc noopener\" target=\"_blank\">https://markezine.jp/mzbooks/campaign/kokyaku</a>）をご覧ください。\\n<p id=\"p-iframe-image-58821-2\"><span class=\"text-image-caption clearfix editor-image center\"><img alt=\"\" src=\"https://prtimes.jp/i/34873/40/resize/d34873-40-390741-1.png\" style=\"width: 650px; height: 406px;\" /></span></p>\\n<br />\\n&nbsp;<br />\\n■<strong>書籍概要</strong><br />\\n<strong>『たった一人の分析から事業は成長する 実践 顧客起点マーケティング（MarkeZine BOOKS）』</strong><br />\\n著者：西口 一希<br />\\n発売日：2019年4月8日<br />\\n定価：2,000円＋税<br />\\n版型：A5・240ページ<br />\\n出版社：翔泳社<br />\\n<a href=\"https://www.shoeisha.co.jp/book/detail/9784798160078\" rel=\"nofollow ugc noopener\" target=\"_blank\">https://www.shoeisha.co.jp/book/detail/9784798160078</a>\\n<p id=\"p-iframe-image-58821-3\"><span class=\"text-image-caption clearfix editor-image center\"><img alt=\"\" src=\"https://prtimes.jp/i/34873/40/resize/d34873-40-603088-2.jpg\" style=\"width: 250px; height: 354px;\" /></span></p>\\n<br />\\n&nbsp;<br />\\n<strong>■目次</strong><br />\\n序章\\u3000顧客起点マーケティングの全体像<br />\\n第1章\\u3000マーケティングの「アイデア」とN1の意味<br />\\n第2章\\u3000【基礎編】顧客ピラミッドで基本的なマーケティング戦略を構築する<br />\\n第3章\\u3000【応用編】9セグマップ分析で販売促進とブランディングを両立する<br />\\n第4章\\u3000【ケーススタディ】スマートニュースのN1分析とアイデア創出<br />\\n第5章\\u3000デジタル時代の顧客分析の重要性<br />\\n<br />\\n<br />\\n<strong>■著者紹介</strong><br />\\n<strong>西口 一希（にしぐち かずき）</strong><br />\\n大阪大学経済学部卒業後、P＆G入社。マーケティング本部に所属、ブランドマネージャー、マーケティングディレクターを歴任。2006年ロート製薬\\u3000執行役員マーケティング本部長。スキンケア商品の肌ラボを日本一の化粧水に育成、男性用ボディケアブランドのデ・オウを開発、発売1年で男性用全身洗浄料市場でNo.1に育成するなど、スキンケア、医薬品、目薬など60以上のブランドを担当。2015年ロクシタンジャポン代表取締役。2016年にロクシタングループ過去最高利益達成に貢献し、アジア人初のグローバル エグゼクティブ コミッティ メンバーに選出、その後ロクシタン社外取締役 戦略顧問。2017年にスマートニュースへ日本および米国のマーケティング担当 執行役員として参画、累計ダウンロード数5,000万、月間使用者数2,000万人を達成、2019年8月に、企業評価金額が10億ドル（約1,000億）を超える国内3社目のユニコーン企業まで急成長。2019年9月スマートニュースを退社しマーケティング戦略顧問に就任、Strategy Partnersの代表取締役およびM-Force株式会社を共同創業者としてビジネスコンサルタント、投資活動に従事。\\n                            </div>\\n                                                                                                                                                                    </div>\\n\\n                    </div>'}}, {'title': '新刊『カリスマシッターが教える“困ったとき”の育児ワザ 寝ない子もぐずる子もおまかせ！』0~5歳の育児のお悩みを大人気シッターが解消します', 'title_detail': {'type': 'text/plain', 'language': None, 'base': 'https://www.shoeisha.co.jp/rss/index.xml', 'value': '新刊『カリスマシッターが教える“困ったとき”の育児ワザ 寝ない子もぐずる子もおまかせ！』0~5歳の育児のお悩みを大人気シッターが解消します'}, 'authors': [{'name': '翔泳社'}], 'author': '翔泳社', 'author_detail': {'name': '翔泳社'}, 'links': [{'rel': 'alternate', 'type': 'text/html', 'href': 'http://www.shoeisha.co.jp/press/detail/545'}], 'link': 'http://www.shoeisha.co.jp/press/detail/545', 'published': 'Wed, 11 Nov 2020 11:00:05 +0900', 'published_parsed': time.struct_time(tm_year=2020, tm_mon=11, tm_mday=11, tm_hour=2, tm_min=0, tm_sec=5, tm_wday=2, tm_yday=316, tm_isdst=0), 'summary': '<div class=\"rbody\">\\n                        <div class=\"r-head\">\\n                            株式会社翔泳社（本社：東京都新宿区舟町5、社長：佐々木幹夫）は、2020年11月11日に『カリスマシッターが教える“困ったとき”の育児ワザ 寝ない子もぐずる子もおまかせ！』を発売します。本書は、大人気シッターたちに聞いた、0～5歳の子育てがちょっと楽になるテクニックや遊びのネタをまとめた1冊です。<br />\\n<br />\\n書籍概要：<a href=\"https://www.shoeisha.co.jp/book/detail/9784798164670\" rel=\"nofollow ugc noopener\" target=\"_blank\">https://www.shoeisha.co.jp/book/detail/9784798164670</a>\\n                        </div>\\n                        <div class=\"r-text clearfix\">\\n                            <div class=\"rich-text\">\\n                                <p id=\"p-iframe-image-30193-1\"><span class=\"text-image-caption clearfix editor-image center\"><img alt=\"カリスマシッターが教える“困ったとき”の育児ワザ 寝ない子もぐずる子もおまかせ！（翔泳社）\" src=\"https://prtimes.jp/i/34873/37/resize/d34873-37-516356-0.jpg\" style=\"width: 306px; height: 449px;\" /></span></p>\\n<br />\\n<strong>大人気シッターがお悩みにお答えします！</strong><br />\\n小さな子どもとの生活では、その年齢ごとに様々な悩みごとや困りごとに直面します。そんな時に役立つ、対応の仕方や考え方、とっておきのワザなどを5人の人気シッターたちに聞きました。<br />\\nどんなお子さんとも仲良くなれるシッティングのプロだからこその、成長や発達につながる働きかけのコツやあそび方も伝授します。<br />\\n毎日子育てに向き合うパパ・ママだけでなく、孫育て世代のじいじ、ばあばにもおすすめです。&nbsp;<br />\\n<br />\\n<strong>▼０～１歳のお悩み：<br />\\n毎日の寝かしつけがうまくいかない。どうしたらスムーズに寝てくれる?</strong>\\n\\n<table border=\"1\" cellpadding=\"6\" style=\"width: 700px; border: 1px solid #000;\">\\n <tbody>\\n  <tr>\\n   <td style=\"padding: 10px;\">私が寝かしつけをする際は、就寝の30分前くらいから少しずつ部屋を暗くして、こもりうたなどを歌うようにしています。そのときは、曲はなんでもいいので、お名前を歌詞に入れて歌うようにします。安心するのか、体の力が抜けていきます。</td>\\n  </tr>\\n </tbody>\\n</table>\\n\\n<p>&nbsp;</p>\\n<br />\\n<strong>▼４～５歳のお悩み<br />\\nいつも同じようなことで叱ってばかり&hellip;&hellip;。シッターはどんな風に伝える?</strong>\\n\\n<table border=\"1\" cellpadding=\"6\" style=\"width: 700px; border: 1px solid #000;\">\\n <tbody>\\n  <tr>\\n   <td style=\"padding: 10px;\">叱るというよりもお子さんが考える時間をつくる、というイメージでお話をします。<br />\\n   最初から「ダメ」と言ってしまうとそこで終わってしまうので、「どうしたの?」とまずは聞いてみる。お子さんの気持ちも尊重しながら、あくまでもこちらからのリクエストとして提案してみる。それが受け入れられなくても、否定はしません。でも、行動を変えてくれたら、「ありがとう」と言います。その繰り返しですね。</td>\\n  </tr>\\n </tbody>\\n</table>\\n\\n<p>&nbsp;</p>\\n<br />\\n<strong>■書籍情報</strong><br />\\n<strong>『カリスマシッターが教える&ldquo;困ったとき&rdquo;の育児ワザ 寝ない子もぐずる子もおまかせ！』</strong><br />\\n編集：育児サポートを考える会<br />\\n発売日：2020年11月11日<br />\\n定価：1,300円（税別）<br />\\n判型：四六・144ページ<br />\\n出版社：翔泳社<br />\\nISBN：9784798164670<br />\\n<a href=\"https://www.shoeisha.co.jp/book/detail/9784798164670\" rel=\"nofollow ugc noopener\" target=\"_blank\">https://www.shoeisha.co.jp/book/detail/9784798164670</a><br />\\n<br />\\n全国の書店、ネット書店などでご購入いただけます<br />\\n・翔泳社の通販 SEshop: <a href=\"https://www.seshop.com/product/detail/23695\" rel=\"nofollow ugc noopener\" target=\"_blank\">https://www.seshop.com/product/detail/23695</a><br />\\n・Amazon: <a href=\"https://www.amazon.co.jp/dp/4798164674\" rel=\"nofollow ugc noopener\" target=\"_blank\">https://www.amazon.co.jp/dp/4798164674</a><br />\\n<br />\\n<br />\\n<strong>■目次</strong><br />\\n第1部\\u3000大人気シッターがお悩みにお答えします！<br />\\n1章\\u30000〜1歳の育児おなやみ<br />\\n2章\\u30002〜3歳の育児おなやみ<br />\\n3章\\u30004〜5歳の育児おなやみ<br />\\nColumn\\u3000人気シッターに聞く！（1）真似したいおうちのインテリア<br />\\n第2部\\u3000もう&ldquo;間が持たない&rdquo;と悩まない！\\u3000絶対に子供ウケするあそび<br />\\n4章\\u30000〜1歳のあそび方<br />\\n5章\\u30002〜3歳のあそび方<br />\\n6章\\u30004〜5歳のあそび方<br />\\nColumn\\u3000人気シッターに聞く！（2）子どもが飽きないお散歩の楽しみ方<br />\\n第3部\\u3000真似したいヒントが満載！\\u3000大人気シッターのおしごと拝見<br />\\n7章\\u3000シッターの1日シッティングプラン<br />\\n8章\\u3000シッターのチェックリスト<br />\\nColumn\\u3000人気シッターに聞く！（3）家事をあそびに変えるワザ\\n                            </div>\\n                                                                                                                                                                    </div>\\n\\n                    </div>', 'summary_detail': {'type': 'text/html', 'language': None, 'base': 'https://www.shoeisha.co.jp/rss/index.xml', 'value': '<div class=\"rbody\">\\n                        <div class=\"r-head\">\\n                            株式会社翔泳社（本社：東京都新宿区舟町5、社長：佐々木幹夫）は、2020年11月11日に『カリスマシッターが教える“困ったとき”の育児ワザ 寝ない子もぐずる子もおまかせ！』を発売します。本書は、大人気シッターたちに聞いた、0～5歳の子育てがちょっと楽になるテクニックや遊びのネタをまとめた1冊です。<br />\\n<br />\\n書籍概要：<a href=\"https://www.shoeisha.co.jp/book/detail/9784798164670\" rel=\"nofollow ugc noopener\" target=\"_blank\">https://www.shoeisha.co.jp/book/detail/9784798164670</a>\\n                        </div>\\n                        <div class=\"r-text clearfix\">\\n                            <div class=\"rich-text\">\\n                                <p id=\"p-iframe-image-30193-1\"><span class=\"text-image-caption clearfix editor-image center\"><img alt=\"カリスマシッターが教える“困ったとき”の育児ワザ 寝ない子もぐずる子もおまかせ！（翔泳社）\" src=\"https://prtimes.jp/i/34873/37/resize/d34873-37-516356-0.jpg\" style=\"width: 306px; height: 449px;\" /></span></p>\\n<br />\\n<strong>大人気シッターがお悩みにお答えします！</strong><br />\\n小さな子どもとの生活では、その年齢ごとに様々な悩みごとや困りごとに直面します。そんな時に役立つ、対応の仕方や考え方、とっておきのワザなどを5人の人気シッターたちに聞きました。<br />\\nどんなお子さんとも仲良くなれるシッティングのプロだからこその、成長や発達につながる働きかけのコツやあそび方も伝授します。<br />\\n毎日子育てに向き合うパパ・ママだけでなく、孫育て世代のじいじ、ばあばにもおすすめです。&nbsp;<br />\\n<br />\\n<strong>▼０～１歳のお悩み：<br />\\n毎日の寝かしつけがうまくいかない。どうしたらスムーズに寝てくれる?</strong>\\n\\n<table border=\"1\" cellpadding=\"6\" style=\"width: 700px; border: 1px solid #000;\">\\n <tbody>\\n  <tr>\\n   <td style=\"padding: 10px;\">私が寝かしつけをする際は、就寝の30分前くらいから少しずつ部屋を暗くして、こもりうたなどを歌うようにしています。そのときは、曲はなんでもいいので、お名前を歌詞に入れて歌うようにします。安心するのか、体の力が抜けていきます。</td>\\n  </tr>\\n </tbody>\\n</table>\\n\\n<p>&nbsp;</p>\\n<br />\\n<strong>▼４～５歳のお悩み<br />\\nいつも同じようなことで叱ってばかり&hellip;&hellip;。シッターはどんな風に伝える?</strong>\\n\\n<table border=\"1\" cellpadding=\"6\" style=\"width: 700px; border: 1px solid #000;\">\\n <tbody>\\n  <tr>\\n   <td style=\"padding: 10px;\">叱るというよりもお子さんが考える時間をつくる、というイメージでお話をします。<br />\\n   最初から「ダメ」と言ってしまうとそこで終わってしまうので、「どうしたの?」とまずは聞いてみる。お子さんの気持ちも尊重しながら、あくまでもこちらからのリクエストとして提案してみる。それが受け入れられなくても、否定はしません。でも、行動を変えてくれたら、「ありがとう」と言います。その繰り返しですね。</td>\\n  </tr>\\n </tbody>\\n</table>\\n\\n<p>&nbsp;</p>\\n<br />\\n<strong>■書籍情報</strong><br />\\n<strong>『カリスマシッターが教える&ldquo;困ったとき&rdquo;の育児ワザ 寝ない子もぐずる子もおまかせ！』</strong><br />\\n編集：育児サポートを考える会<br />\\n発売日：2020年11月11日<br />\\n定価：1,300円（税別）<br />\\n判型：四六・144ページ<br />\\n出版社：翔泳社<br />\\nISBN：9784798164670<br />\\n<a href=\"https://www.shoeisha.co.jp/book/detail/9784798164670\" rel=\"nofollow ugc noopener\" target=\"_blank\">https://www.shoeisha.co.jp/book/detail/9784798164670</a><br />\\n<br />\\n全国の書店、ネット書店などでご購入いただけます<br />\\n・翔泳社の通販 SEshop: <a href=\"https://www.seshop.com/product/detail/23695\" rel=\"nofollow ugc noopener\" target=\"_blank\">https://www.seshop.com/product/detail/23695</a><br />\\n・Amazon: <a href=\"https://www.amazon.co.jp/dp/4798164674\" rel=\"nofollow ugc noopener\" target=\"_blank\">https://www.amazon.co.jp/dp/4798164674</a><br />\\n<br />\\n<br />\\n<strong>■目次</strong><br />\\n第1部\\u3000大人気シッターがお悩みにお答えします！<br />\\n1章\\u30000〜1歳の育児おなやみ<br />\\n2章\\u30002〜3歳の育児おなやみ<br />\\n3章\\u30004〜5歳の育児おなやみ<br />\\nColumn\\u3000人気シッターに聞く！（1）真似したいおうちのインテリア<br />\\n第2部\\u3000もう&ldquo;間が持たない&rdquo;と悩まない！\\u3000絶対に子供ウケするあそび<br />\\n4章\\u30000〜1歳のあそび方<br />\\n5章\\u30002〜3歳のあそび方<br />\\n6章\\u30004〜5歳のあそび方<br />\\nColumn\\u3000人気シッターに聞く！（2）子どもが飽きないお散歩の楽しみ方<br />\\n第3部\\u3000真似したいヒントが満載！\\u3000大人気シッターのおしごと拝見<br />\\n7章\\u3000シッターの1日シッティングプラン<br />\\n8章\\u3000シッターのチェックリスト<br />\\nColumn\\u3000人気シッターに聞く！（3）家事をあそびに変えるワザ\\n                            </div>\\n                                                                                                                                                                    </div>\\n\\n                    </div>'}}]\n"
     ]
    }
   ],
   "source": [
    "print(rss['entries'])"
   ]
  },
  {
   "cell_type": "code",
   "execution_count": 12,
   "metadata": {},
   "outputs": [
    {
     "output_type": "stream",
     "name": "stdout",
     "text": [
      "翔泳社、PM向けウェビナー「エムスリーに学ぶ、プロダクトマネージャー育成へのチャレンジ、チームの中心に据えるべきもの」を2月24日に開催\nhttp://www.shoeisha.co.jp/press/detail/564\n翔泳社1月新刊のご案内\nhttp://www.shoeisha.co.jp/press/detail/563\nリモートワークの情報共有を応援！翔泳社のマーケター向けの定期誌『MarkeZine』とEC事業者のための専門誌『季刊ECzine』の電子版が特別割引\nhttp://www.shoeisha.co.jp/press/detail/562\nITエンジニア本大賞2021、技術書・ビジネス書の各ベスト10を発表！大賞は、2/18総合ITカンファレンスDevelopers Summit 2021内で行うプレゼン大会で決定します。\nhttp://www.shoeisha.co.jp/press/detail/561\n発達障害の人の就職活動、1人で悩む前に。新刊『ちょっとしたコツでうまくいく！発達障害の人のための就活ハック』\nhttp://www.shoeisha.co.jp/press/detail/560\nリモートワークに外出自粛、「巣ごもり」期間をおうちごはんで乗りきる！『巣ごもりごはん便利帳 週2回の買い物でできる不調ケアレシピ』発売。\nhttp://www.shoeisha.co.jp/press/detail/559\nコロナ禍に大きく変化した営業組織の実態を探る！SalesZineが初の調査プロジェクト「SalesZine RESEARCH」を始動\nhttp://www.shoeisha.co.jp/press/detail/558\n外出できない今だからこそお家でイラストを楽しもう。学生イラストレーター応援！『イラスト映えBook』無料読み放題\nhttp://www.shoeisha.co.jp/press/detail/557\n‟おうち時間の充実”が根付いた2020年読者の購買行動からみる2021年の消費の予測～『みんなの暮らし日記ONLINE』の読者は何を買った？　何に満足？　コロナ禍によって変わった価値観とお金の使い方～\nhttp://www.shoeisha.co.jp/press/detail/556\nMarkeZineによる最新調査『マーケティング最新動向調査 2021』発刊。コロナ禍で加速するデジタルシフトとマーケティングへの投資意欲\nhttp://www.shoeisha.co.jp/press/detail/555\n翔泳社、PM向けウェビナー「データを武器にプロダクトの不確実性と戦う」を1月22日に開催\nhttp://www.shoeisha.co.jp/press/detail/554\n翔泳社12月新刊のご案内\nhttp://www.shoeisha.co.jp/press/detail/553\n書籍『ハッキング・ラボのつくりかた』無料で全文公開！SNSプレゼントキャンペーンも同時開催\nhttp://www.shoeisha.co.jp/press/detail/552\n翔泳社、PM向けウェビナー「プロダクトマネジメントの“罠”を回避しよう」を12月22日に開催\nhttp://www.shoeisha.co.jp/press/detail/551\n共働き夫婦、お互いの収入や支出を知っていますか？新刊『書けば貯まる！共働きにピッタリな一生モノの家計管理』\nhttp://www.shoeisha.co.jp/press/detail/550\nシリーズ累計10万部最新刊『ILLUSTRATION 2021』の特設サイト公開。特別版や限定グッズプレゼントも！\nhttp://www.shoeisha.co.jp/press/detail/549\n翔泳社11月新刊のご案内\nhttp://www.shoeisha.co.jp/press/detail/548\n12月1日まで大感謝セール！翔泳社の電子書籍900点以上が50％OFF。話題のビジネス書やIT書も対象！\nhttp://www.shoeisha.co.jp/press/detail/547\n書籍『実践 顧客起点マーケティング』無料で全文公開！著者：西口一希氏へオンライン相談できるキャンペーンも開催中\nhttp://www.shoeisha.co.jp/press/detail/546\n新刊『カリスマシッターが教える“困ったとき”の育児ワザ 寝ない子もぐずる子もおまかせ！』0~5歳の育児のお悩みを大人気シッターが解消します\nhttp://www.shoeisha.co.jp/press/detail/545\n"
     ]
    }
   ],
   "source": [
    "#各エントリーのタイトルとリンクを表示\n",
    "for content in rss['entries']:\n",
    "    print(content['title'])\n",
    "    print(content['link'])"
   ]
  },
  {
   "cell_type": "code",
   "execution_count": 13,
   "metadata": {},
   "outputs": [
    {
     "output_type": "stream",
     "name": "stdout",
     "text": [
      "rss20\n"
     ]
    }
   ],
   "source": [
    "#rssのバージョンを表示\n",
    "print(rss.version)"
   ]
  },
  {
   "source": [
    "# ４．　データをデータベースに保存して解析する"
   ],
   "cell_type": "markdown",
   "metadata": {}
  },
  {
   "source": [
    "## PythonからMySQLに接続する"
   ],
   "cell_type": "markdown",
   "metadata": {}
  },
  {
   "source": [
    "### データベース接続してSQLを実行する"
   ],
   "cell_type": "markdown",
   "metadata": {}
  },
  {
   "cell_type": "code",
   "execution_count": 5,
   "metadata": {},
   "outputs": [],
   "source": [
    "import MySQLdb\n",
    "\n",
    "connection=MySQLdb.connect(\n",
    "    user='scrapingman',\n",
    "    passwd='aahraAF_E',\n",
    "    host='localhost',\n",
    "    db='scrapingdata',\n",
    "    charset='utf8'\n",
    ")"
   ]
  },
  {
   "source": [
    "### connect関数の戻り値を確認する"
   ],
   "cell_type": "markdown",
   "metadata": {}
  },
  {
   "cell_type": "code",
   "execution_count": 15,
   "metadata": {},
   "outputs": [
    {
     "output_type": "execute_result",
     "data": {
      "text/plain": [
       "MySQLdb.connections.Connection"
      ]
     },
     "metadata": {},
     "execution_count": 15
    }
   ],
   "source": [
    "type(connection)"
   ]
  },
  {
   "source": [
    "### カーソルを取得する"
   ],
   "cell_type": "markdown",
   "metadata": {}
  },
  {
   "cell_type": "code",
   "execution_count": 16,
   "metadata": {},
   "outputs": [
    {
     "output_type": "execute_result",
     "data": {
      "text/plain": [
       "MySQLdb.cursors.Cursor"
      ]
     },
     "metadata": {},
     "execution_count": 16
    }
   ],
   "source": [
    "cursor=connection.cursor()\n",
    "type(cursor)"
   ]
  },
  {
   "source": [
    "### テーブルを作成する"
   ],
   "cell_type": "markdown",
   "metadata": {}
  },
  {
   "cell_type": "code",
   "execution_count": 6,
   "metadata": {},
   "outputs": [
    {
     "output_type": "error",
     "ename": "OperationalError",
     "evalue": "(2006, '')",
     "traceback": [
      "\u001b[0;31m---------------------------------------------------------------------------\u001b[0m",
      "\u001b[0;31mOperationalError\u001b[0m                          Traceback (most recent call last)",
      "\u001b[0;32m<ipython-input-6-928fdbd40a9e>\u001b[0m in \u001b[0;36m<module>\u001b[0;34m\u001b[0m\n\u001b[0;32m----> 1\u001b[0;31m \u001b[0mcursor\u001b[0m\u001b[0;34m.\u001b[0m\u001b[0mexecute\u001b[0m\u001b[0;34m(\u001b[0m\u001b[0;34m'CREATE TABLE books (title text,url text)'\u001b[0m\u001b[0;34m)\u001b[0m\u001b[0;34m\u001b[0m\u001b[0;34m\u001b[0m\u001b[0m\n\u001b[0m",
      "\u001b[0;32m~/.pyenv/versions/3.8.3/lib/python3.8/site-packages/MySQLdb/cursors.py\u001b[0m in \u001b[0;36mexecute\u001b[0;34m(self, query, args)\u001b[0m\n\u001b[1;32m    181\u001b[0m         \u001b[0mReturns\u001b[0m \u001b[0minteger\u001b[0m \u001b[0mrepresents\u001b[0m \u001b[0mrows\u001b[0m \u001b[0maffected\u001b[0m\u001b[0;34m,\u001b[0m \u001b[0;32mif\u001b[0m \u001b[0many\u001b[0m\u001b[0;34m\u001b[0m\u001b[0;34m\u001b[0m\u001b[0m\n\u001b[1;32m    182\u001b[0m         \"\"\"\n\u001b[0;32m--> 183\u001b[0;31m         \u001b[0;32mwhile\u001b[0m \u001b[0mself\u001b[0m\u001b[0;34m.\u001b[0m\u001b[0mnextset\u001b[0m\u001b[0;34m(\u001b[0m\u001b[0;34m)\u001b[0m\u001b[0;34m:\u001b[0m\u001b[0;34m\u001b[0m\u001b[0;34m\u001b[0m\u001b[0m\n\u001b[0m\u001b[1;32m    184\u001b[0m             \u001b[0;32mpass\u001b[0m\u001b[0;34m\u001b[0m\u001b[0;34m\u001b[0m\u001b[0m\n\u001b[1;32m    185\u001b[0m         \u001b[0mdb\u001b[0m \u001b[0;34m=\u001b[0m \u001b[0mself\u001b[0m\u001b[0;34m.\u001b[0m\u001b[0m_get_db\u001b[0m\u001b[0;34m(\u001b[0m\u001b[0;34m)\u001b[0m\u001b[0;34m\u001b[0m\u001b[0;34m\u001b[0m\u001b[0m\n",
      "\u001b[0;32m~/.pyenv/versions/3.8.3/lib/python3.8/site-packages/MySQLdb/cursors.py\u001b[0m in \u001b[0;36mnextset\u001b[0;34m(self)\u001b[0m\n\u001b[1;32m    135\u001b[0m \u001b[0;34m\u001b[0m\u001b[0m\n\u001b[1;32m    136\u001b[0m         \u001b[0mdb\u001b[0m \u001b[0;34m=\u001b[0m \u001b[0mself\u001b[0m\u001b[0;34m.\u001b[0m\u001b[0m_get_db\u001b[0m\u001b[0;34m(\u001b[0m\u001b[0;34m)\u001b[0m\u001b[0;34m\u001b[0m\u001b[0;34m\u001b[0m\u001b[0m\n\u001b[0;32m--> 137\u001b[0;31m         \u001b[0mnr\u001b[0m \u001b[0;34m=\u001b[0m \u001b[0mdb\u001b[0m\u001b[0;34m.\u001b[0m\u001b[0mnext_result\u001b[0m\u001b[0;34m(\u001b[0m\u001b[0;34m)\u001b[0m\u001b[0;34m\u001b[0m\u001b[0;34m\u001b[0m\u001b[0m\n\u001b[0m\u001b[1;32m    138\u001b[0m         \u001b[0;32mif\u001b[0m \u001b[0mnr\u001b[0m \u001b[0;34m==\u001b[0m \u001b[0;34m-\u001b[0m\u001b[0;36m1\u001b[0m\u001b[0;34m:\u001b[0m\u001b[0;34m\u001b[0m\u001b[0;34m\u001b[0m\u001b[0m\n\u001b[1;32m    139\u001b[0m             \u001b[0;32mreturn\u001b[0m \u001b[0;32mNone\u001b[0m\u001b[0;34m\u001b[0m\u001b[0;34m\u001b[0m\u001b[0m\n",
      "\u001b[0;31mOperationalError\u001b[0m: (2006, '')"
     ]
    }
   ],
   "source": [
    "cursor.execute('CREATE TABLE books (title text,url text)')"
   ]
  },
  {
   "cell_type": "code",
   "execution_count": 18,
   "metadata": {},
   "outputs": [],
   "source": [
    "#実際に実行する\n",
    "connection.commit()"
   ]
  },
  {
   "source": [
    "### テーブルにレコードを追加する"
   ],
   "cell_type": "markdown",
   "metadata": {}
  },
  {
   "cell_type": "code",
   "execution_count": 7,
   "metadata": {},
   "outputs": [
    {
     "output_type": "error",
     "ename": "OperationalError",
     "evalue": "(2006, '')",
     "traceback": [
      "\u001b[0;31m---------------------------------------------------------------------------\u001b[0m",
      "\u001b[0;31mOperationalError\u001b[0m                          Traceback (most recent call last)",
      "\u001b[0;32m<ipython-input-7-a98e3a10adc4>\u001b[0m in \u001b[0;36m<module>\u001b[0;34m\u001b[0m\n\u001b[1;32m     10\u001b[0m \u001b[0;31m# cursor=connection.cursor()\u001b[0m\u001b[0;34m\u001b[0m\u001b[0;34m\u001b[0m\u001b[0;34m\u001b[0m\u001b[0m\n\u001b[1;32m     11\u001b[0m \u001b[0;31m# cursor.execute('CREATE TABLE books (title text,url text)')\u001b[0m\u001b[0;34m\u001b[0m\u001b[0;34m\u001b[0m\u001b[0;34m\u001b[0m\u001b[0m\n\u001b[0;32m---> 12\u001b[0;31m \u001b[0mcursor\u001b[0m\u001b[0;34m.\u001b[0m\u001b[0mexecute\u001b[0m\u001b[0;34m(\u001b[0m\u001b[0;34m'INSERT INTO books VALUES(%s,%s)'\u001b[0m\u001b[0;34m,\u001b[0m\u001b[0;34m(\u001b[0m\u001b[0;34m'はじめてのPython'\u001b[0m\u001b[0;34m,\u001b[0m\u001b[0;34m'https://www.example.com'\u001b[0m\u001b[0;34m)\u001b[0m\u001b[0;34m)\u001b[0m\u001b[0;34m\u001b[0m\u001b[0;34m\u001b[0m\u001b[0m\n\u001b[0m\u001b[1;32m     13\u001b[0m \u001b[0mconnection\u001b[0m\u001b[0;34m.\u001b[0m\u001b[0mcommit\u001b[0m\u001b[0;34m(\u001b[0m\u001b[0;34m)\u001b[0m\u001b[0;34m\u001b[0m\u001b[0;34m\u001b[0m\u001b[0m\n",
      "\u001b[0;32m~/.pyenv/versions/3.8.3/lib/python3.8/site-packages/MySQLdb/cursors.py\u001b[0m in \u001b[0;36mexecute\u001b[0;34m(self, query, args)\u001b[0m\n\u001b[1;32m    181\u001b[0m         \u001b[0mReturns\u001b[0m \u001b[0minteger\u001b[0m \u001b[0mrepresents\u001b[0m \u001b[0mrows\u001b[0m \u001b[0maffected\u001b[0m\u001b[0;34m,\u001b[0m \u001b[0;32mif\u001b[0m \u001b[0many\u001b[0m\u001b[0;34m\u001b[0m\u001b[0;34m\u001b[0m\u001b[0m\n\u001b[1;32m    182\u001b[0m         \"\"\"\n\u001b[0;32m--> 183\u001b[0;31m         \u001b[0;32mwhile\u001b[0m \u001b[0mself\u001b[0m\u001b[0;34m.\u001b[0m\u001b[0mnextset\u001b[0m\u001b[0;34m(\u001b[0m\u001b[0;34m)\u001b[0m\u001b[0;34m:\u001b[0m\u001b[0;34m\u001b[0m\u001b[0;34m\u001b[0m\u001b[0m\n\u001b[0m\u001b[1;32m    184\u001b[0m             \u001b[0;32mpass\u001b[0m\u001b[0;34m\u001b[0m\u001b[0;34m\u001b[0m\u001b[0m\n\u001b[1;32m    185\u001b[0m         \u001b[0mdb\u001b[0m \u001b[0;34m=\u001b[0m \u001b[0mself\u001b[0m\u001b[0;34m.\u001b[0m\u001b[0m_get_db\u001b[0m\u001b[0;34m(\u001b[0m\u001b[0;34m)\u001b[0m\u001b[0;34m\u001b[0m\u001b[0;34m\u001b[0m\u001b[0m\n",
      "\u001b[0;32m~/.pyenv/versions/3.8.3/lib/python3.8/site-packages/MySQLdb/cursors.py\u001b[0m in \u001b[0;36mnextset\u001b[0;34m(self)\u001b[0m\n\u001b[1;32m    135\u001b[0m \u001b[0;34m\u001b[0m\u001b[0m\n\u001b[1;32m    136\u001b[0m         \u001b[0mdb\u001b[0m \u001b[0;34m=\u001b[0m \u001b[0mself\u001b[0m\u001b[0;34m.\u001b[0m\u001b[0m_get_db\u001b[0m\u001b[0;34m(\u001b[0m\u001b[0;34m)\u001b[0m\u001b[0;34m\u001b[0m\u001b[0;34m\u001b[0m\u001b[0m\n\u001b[0;32m--> 137\u001b[0;31m         \u001b[0mnr\u001b[0m \u001b[0;34m=\u001b[0m \u001b[0mdb\u001b[0m\u001b[0;34m.\u001b[0m\u001b[0mnext_result\u001b[0m\u001b[0;34m(\u001b[0m\u001b[0;34m)\u001b[0m\u001b[0;34m\u001b[0m\u001b[0;34m\u001b[0m\u001b[0m\n\u001b[0m\u001b[1;32m    138\u001b[0m         \u001b[0;32mif\u001b[0m \u001b[0mnr\u001b[0m \u001b[0;34m==\u001b[0m \u001b[0;34m-\u001b[0m\u001b[0;36m1\u001b[0m\u001b[0;34m:\u001b[0m\u001b[0;34m\u001b[0m\u001b[0;34m\u001b[0m\u001b[0m\n\u001b[1;32m    139\u001b[0m             \u001b[0;32mreturn\u001b[0m \u001b[0;32mNone\u001b[0m\u001b[0;34m\u001b[0m\u001b[0;34m\u001b[0m\u001b[0m\n",
      "\u001b[0;31mOperationalError\u001b[0m: (2006, '')"
     ]
    }
   ],
   "source": [
    "# import MySQLdb\n",
    "\n",
    "# connection=MySQLdb.connect(\n",
    "#     user='scrapingman',\n",
    "#     passwd='aahraAF_E',\n",
    "#     host='localhost',\n",
    "#     db='scrapingdata',\n",
    "#     charset='utf8'\n",
    "# )\n",
    "# cursor=connection.cursor()\n",
    "# cursor.execute('CREATE TABLE books (title text,url text)')\n",
    "cursor.execute('INSERT INTO books VALUES(%s,%s)',('はじめてのPython','https://www.example.com'))\n",
    "connection.commit()"
   ]
  },
  {
   "source": [
    "### 接続を閉じる"
   ],
   "cell_type": "markdown",
   "metadata": {}
  },
  {
   "cell_type": "code",
   "execution_count": 20,
   "metadata": {},
   "outputs": [],
   "source": [
    "connection.close()"
   ]
  },
  {
   "source": [
    "### 解析した結果を保存する"
   ],
   "cell_type": "markdown",
   "metadata": {}
  },
  {
   "cell_type": "code",
   "execution_count": 8,
   "metadata": {},
   "outputs": [
    {
     "output_type": "stream",
     "name": "stdout",
     "text": [
      "rss20\n翔泳社 お知らせ\nFri, 12 Feb 2021 14:49:44 +0900\n"
     ]
    }
   ],
   "source": [
    "import feedparser\n",
    "import MySQLdb\n",
    "\n",
    "connection=MySQLdb.connect(\n",
    "    user='scrapingman',\n",
    "    passwd='aahraAF_E',\n",
    "    host='localhost',\n",
    "    db='scrapingdata',\n",
    "    charset='utf8'\n",
    ")\n",
    "cursor=connection.cursor()\n",
    "\n",
    "#実行するたびに同じ結果になるようにテーブルを削除する\n",
    "cursor.execute('DROP TABLE IF EXISTS books')\n",
    "\n",
    "cursor.execute('CREATE TABLE books (title text,url text)')\n",
    "cursor.execute('INSERT INTO books VALUES(%s,%s)',('はじめてのPython','https://www.example.com'))\n",
    "connection.commit()\n",
    "\n",
    "rss=feedparser.parse('https://www.shoeisha.co.jp/rss/index.xml')\n",
    "\n",
    "#rssのバージョンを表示\n",
    "print(rss.version)\n",
    "\n",
    "#フィードのタイトルとコンテンツの発行日時を表示\n",
    "print(rss['feed']['title'])\n",
    "print(rss['feed']['published'])\n",
    "\n",
    "#各エントリーのタイトルとリンクを保存する\n",
    "for content in rss['entries']:\n",
    "    cursor.execute('INSERT INTO books VALUES(%s,%s)',(content['title'],content['link']))\n",
    "\n",
    "#変更をコミットする\n",
    "connection.commit()\n",
    "\n",
    "#接続を閉じる\n",
    "connection.close()"
   ]
  },
  {
   "cell_type": "code",
   "execution_count": null,
   "metadata": {},
   "outputs": [],
   "source": []
  }
 ]
}