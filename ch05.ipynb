{
 "metadata": {
  "language_info": {
   "codemirror_mode": {
    "name": "ipython",
    "version": 3
   },
   "file_extension": ".py",
   "mimetype": "text/x-python",
   "name": "python",
   "nbconvert_exporter": "python",
   "pygments_lexer": "ipython3",
   "version": "3.8.3-final"
  },
  "orig_nbformat": 2,
  "kernelspec": {
   "name": "python3",
   "display_name": "Python 3",
   "language": "python"
  }
 },
 "nbformat": 4,
 "nbformat_minor": 2,
 "cells": [
  {
   "source": [
    "# １．　クローラをもっと進化させるには\n",
    "保守、運用を考慮した設計をしていく必要がある"
   ],
   "cell_type": "markdown",
   "metadata": {}
  },
  {
   "source": [
    "# ２．　print関数でログを出力する"
   ],
   "cell_type": "markdown",
   "metadata": {}
  },
  {
   "cell_type": "code",
   "execution_count": 12,
   "metadata": {},
   "outputs": [
    {
     "output_type": "stream",
     "name": "stderr",
     "text": [
      "ic| titleH1[0].text: 'iPhone＆Androidアプリ内課金プログラミング完全ガイド 第2版\n",
      "                                    '\n",
      "ic| aTag.attrib['href']: 'https://www.shoeisha.co.jp/book/qa/form/9784798146072'\n"
     ]
    }
   ],
   "source": [
    "import requests\n",
    "import lxml.html\n",
    "from icecream import ic #print関数の代わりに使用\n",
    "\n",
    "#HTMLソースを得る\n",
    "r=requests.get('https://www.shoeisha.co.jp/book/detail/9784798146072')\n",
    "html=r.text\n",
    "\n",
    "#HTMLをHTML Elementオブジェクトにする\n",
    "root=lxml.html.fromstring(html)\n",
    "\n",
    "#Xpathを指定して該当する要素のリストを得る\n",
    "titleH1=root.xpath('//*[@id=\"cx_contents_block\"]/div[1]/section/h1')\n",
    "#リストの１番目の要素のテキストを表示する\n",
    "ic(titleH1[0].text)\n",
    "\n",
    "# print(titleH1[0].tag)\n",
    "# print(titleH1[0].attrib)\n",
    "\n",
    "#CSSセレクターで該当する要素のリストを得る\n",
    "qaA=root.cssselect('#qa > p:nth-child(2) > a')\n",
    "\n",
    "#取得した要素のhref要素を得る\n",
    "for aTag in qaA:\n",
    "    ic(aTag.attrib['href'])"
   ]
  },
  {
   "source": [
    "## ３．　loggingモジールでログを取得して管理する"
   ],
   "cell_type": "markdown",
   "metadata": {}
  },
  {
   "cell_type": "code",
   "execution_count": 17,
   "metadata": {},
   "outputs": [
    {
     "output_type": "stream",
     "name": "stderr",
     "text": [
      "[INFO] 2021-02-12 18:50:47,716 __main__ <ipython-input-17-dac7d459b6aa>:36 クロールを開始します\n",
      "[INFO] 2021-02-12 18:50:47,716 __main__ <ipython-input-17-dac7d459b6aa>:36 クロールを開始します\n",
      "[INFO] 2021-02-12 18:50:47,716 __main__ <ipython-input-17-dac7d459b6aa>:36 クロールを開始します\n",
      "[WARNING] 2021-02-12 18:50:47,729 __main__ <ipython-input-17-dac7d459b6aa>:37 外部サイトのリンクのためクロールしません\n",
      "[WARNING] 2021-02-12 18:50:47,729 __main__ <ipython-input-17-dac7d459b6aa>:37 外部サイトのリンクのためクロールしません\n",
      "[WARNING] 2021-02-12 18:50:47,729 __main__ <ipython-input-17-dac7d459b6aa>:37 外部サイトのリンクのためクロールしません\n",
      "[ERROR] 2021-02-12 18:50:47,733 __main__ <ipython-input-17-dac7d459b6aa>:38 ページが見つかりませんでした\n",
      "[ERROR] 2021-02-12 18:50:47,733 __main__ <ipython-input-17-dac7d459b6aa>:38 ページが見つかりませんでした\n",
      "[ERROR] 2021-02-12 18:50:47,733 __main__ <ipython-input-17-dac7d459b6aa>:38 ページが見つかりませんでした\n",
      "[ERROR] 2021-02-12 18:50:47,740 __main__ <ipython-input-17-dac7d459b6aa>:43 リクエスト中に例外が起きました: MissingSchema(\"Invalid URL '#invalid_url': No schema supplied. Perhaps you meant http://#invalid_url?\")\n",
      "Traceback (most recent call last):\n",
      "  File \"<ipython-input-17-dac7d459b6aa>\", line 41, in logging_example\n",
      "    r=requests.get('#invalid_url',timeout=1)\n",
      "  File \"/Users/shimurayuichirou/.pyenv/versions/3.8.3/lib/python3.8/site-packages/requests/api.py\", line 76, in get\n",
      "    return request('get', url, params=params, **kwargs)\n",
      "  File \"/Users/shimurayuichirou/.pyenv/versions/3.8.3/lib/python3.8/site-packages/requests/api.py\", line 61, in request\n",
      "    return session.request(method=method, url=url, **kwargs)\n",
      "  File \"/Users/shimurayuichirou/.pyenv/versions/3.8.3/lib/python3.8/site-packages/requests/sessions.py\", line 528, in request\n",
      "    prep = self.prepare_request(req)\n",
      "  File \"/Users/shimurayuichirou/.pyenv/versions/3.8.3/lib/python3.8/site-packages/requests/sessions.py\", line 456, in prepare_request\n",
      "    p.prepare(\n",
      "  File \"/Users/shimurayuichirou/.pyenv/versions/3.8.3/lib/python3.8/site-packages/requests/models.py\", line 316, in prepare\n",
      "    self.prepare_url(url, params)\n",
      "  File \"/Users/shimurayuichirou/.pyenv/versions/3.8.3/lib/python3.8/site-packages/requests/models.py\", line 390, in prepare_url\n",
      "    raise MissingSchema(error)\n",
      "requests.exceptions.MissingSchema: Invalid URL '#invalid_url': No schema supplied. Perhaps you meant http://#invalid_url?\n",
      "[ERROR] 2021-02-12 18:50:47,740 __main__ <ipython-input-17-dac7d459b6aa>:43 リクエスト中に例外が起きました: MissingSchema(\"Invalid URL '#invalid_url': No schema supplied. Perhaps you meant http://#invalid_url?\")\n",
      "Traceback (most recent call last):\n",
      "  File \"<ipython-input-17-dac7d459b6aa>\", line 41, in logging_example\n",
      "    r=requests.get('#invalid_url',timeout=1)\n",
      "  File \"/Users/shimurayuichirou/.pyenv/versions/3.8.3/lib/python3.8/site-packages/requests/api.py\", line 76, in get\n",
      "    return request('get', url, params=params, **kwargs)\n",
      "  File \"/Users/shimurayuichirou/.pyenv/versions/3.8.3/lib/python3.8/site-packages/requests/api.py\", line 61, in request\n",
      "    return session.request(method=method, url=url, **kwargs)\n",
      "  File \"/Users/shimurayuichirou/.pyenv/versions/3.8.3/lib/python3.8/site-packages/requests/sessions.py\", line 528, in request\n",
      "    prep = self.prepare_request(req)\n",
      "  File \"/Users/shimurayuichirou/.pyenv/versions/3.8.3/lib/python3.8/site-packages/requests/sessions.py\", line 456, in prepare_request\n",
      "    p.prepare(\n",
      "  File \"/Users/shimurayuichirou/.pyenv/versions/3.8.3/lib/python3.8/site-packages/requests/models.py\", line 316, in prepare\n",
      "    self.prepare_url(url, params)\n",
      "  File \"/Users/shimurayuichirou/.pyenv/versions/3.8.3/lib/python3.8/site-packages/requests/models.py\", line 390, in prepare_url\n",
      "    raise MissingSchema(error)\n",
      "requests.exceptions.MissingSchema: Invalid URL '#invalid_url': No schema supplied. Perhaps you meant http://#invalid_url?\n",
      "[ERROR] 2021-02-12 18:50:47,740 __main__ <ipython-input-17-dac7d459b6aa>:43 リクエスト中に例外が起きました: MissingSchema(\"Invalid URL '#invalid_url': No schema supplied. Perhaps you meant http://#invalid_url?\")\n",
      "Traceback (most recent call last):\n",
      "  File \"<ipython-input-17-dac7d459b6aa>\", line 41, in logging_example\n",
      "    r=requests.get('#invalid_url',timeout=1)\n",
      "  File \"/Users/shimurayuichirou/.pyenv/versions/3.8.3/lib/python3.8/site-packages/requests/api.py\", line 76, in get\n",
      "    return request('get', url, params=params, **kwargs)\n",
      "  File \"/Users/shimurayuichirou/.pyenv/versions/3.8.3/lib/python3.8/site-packages/requests/api.py\", line 61, in request\n",
      "    return session.request(method=method, url=url, **kwargs)\n",
      "  File \"/Users/shimurayuichirou/.pyenv/versions/3.8.3/lib/python3.8/site-packages/requests/sessions.py\", line 528, in request\n",
      "    prep = self.prepare_request(req)\n",
      "  File \"/Users/shimurayuichirou/.pyenv/versions/3.8.3/lib/python3.8/site-packages/requests/sessions.py\", line 456, in prepare_request\n",
      "    p.prepare(\n",
      "  File \"/Users/shimurayuichirou/.pyenv/versions/3.8.3/lib/python3.8/site-packages/requests/models.py\", line 316, in prepare\n",
      "    self.prepare_url(url, params)\n",
      "  File \"/Users/shimurayuichirou/.pyenv/versions/3.8.3/lib/python3.8/site-packages/requests/models.py\", line 390, in prepare_url\n",
      "    raise MissingSchema(error)\n",
      "requests.exceptions.MissingSchema: Invalid URL '#invalid_url': No schema supplied. Perhaps you meant http://#invalid_url?\n"
     ]
    }
   ],
   "source": [
    "from logging import (\n",
    "    getLogger,\n",
    "    Formatter,\n",
    "    FileHandler,\n",
    "    StreamHandler,\n",
    "    DEBUG,\n",
    "    ERROR,\n",
    "    )\n",
    "\n",
    "import requests\n",
    "\n",
    "#ロガー：　__name__には実行モジュール名logging_sampleが入る\n",
    "logger=getLogger(__name__)\n",
    "\n",
    "#出力フォーマット\n",
    "default_format='[%(levelname)s] %(asctime)s %(name)s %(filename)s:%(lineno)d %(message)s'\n",
    "default_formatter=Formatter(default_format)\n",
    "funcname_formatter=Formatter(default_format+'%(funcName)s')\n",
    "\n",
    "#ログ用ハンドラー：　コンソール出力用\n",
    "log_stream_handler=StreamHandler()\n",
    "log_stream_handler.setFormatter(default_formatter)\n",
    "log_stream_handler.setLevel(DEBUG)\n",
    "\n",
    "#ログ用ハンドラー：　ファイル出力用\n",
    "log_file_handler=FileHandler(filename='crawler.log')\n",
    "log_file_handler.setFormatter(funcname_formatter)\n",
    "log_file_handler.setLevel(ERROR)\n",
    "\n",
    "#ロガーにハンドラーとレベルをセット\n",
    "logger.setLevel(DEBUG)\n",
    "logger.addHandler(log_stream_handler)\n",
    "logger.addHandler(log_file_handler)\n",
    "\n",
    "def logging_example():\n",
    "    logger.info('クロールを開始します') #INFOレベルでメッセージを出力する\n",
    "    logger.warning('外部サイトのリンクのためクロールしません')  #WARNINGレベルでメッセージを出力する\n",
    "    logger.error('ページが見つかりませんでした')    #ERRORレベルでメッセージを出力する\n",
    "\n",
    "    try:\n",
    "        r=requests.get('#invalid_url',timeout=1)\n",
    "    except requests.exceptions.RequestException as e:\n",
    "        logger.exception('リクエスト中に例外が起きました: %r',e)    #例外のスタックトレースを出力する\n",
    "\n",
    "\n",
    "if __name__=='__main__':\n",
    "    logging_example()"
   ]
  },
  {
   "cell_type": "code",
   "execution_count": 14,
   "metadata": {},
   "outputs": [
    {
     "output_type": "stream",
     "name": "stdout",
     "text": [
      "/System/Library/Frameworks/Python.framework/Versions/2.7/Resources/Python.app/Contents/MacOS/Python: can't open file 'logging_sample.py': [Errno 2] No such file or directory\n"
     ]
    }
   ],
   "source": [
    "!python logging_sample.py"
   ]
  },
  {
   "cell_type": "code",
   "execution_count": null,
   "metadata": {},
   "outputs": [],
   "source": []
  }
 ]
}