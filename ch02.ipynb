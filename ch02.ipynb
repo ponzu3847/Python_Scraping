{
 "metadata": {
  "language_info": {
   "codemirror_mode": {
    "name": "ipython",
    "version": 3
   },
   "file_extension": ".py",
   "mimetype": "text/x-python",
   "name": "python",
   "nbconvert_exporter": "python",
   "pygments_lexer": "ipython3",
   "version": "3.7.7-final"
  },
  "orig_nbformat": 2,
  "kernelspec": {
   "name": "python3",
   "display_name": "Python 3",
   "language": "python"
  }
 },
 "nbformat": 4,
 "nbformat_minor": 2,
 "cells": [
  {
   "source": [
    "# １．　クローラーの設計の基本"
   ],
   "cell_type": "markdown",
   "metadata": {}
  },
  {
   "source": [
    "## クローラーの種類\n",
    "目的と対象に応じて必要十分な機能のみを持ったクローラーを開発する"
   ],
   "cell_type": "markdown",
   "metadata": {}
  },
  {
   "source": [
    "## 目的と対象を明確にする\n",
    "* 目的が「あるサイトの画像データをすべてダウンロードする」であれば、wgetで十分  \n",
    "* 対象のサイトのURLがaタグのhref属性に入っておらず、data-url属性にしか入っていない場合はwgetでは難しい  \n",
    "* 新着情報があったときにメールやSlackで通知を送りたい場合もwgetでは難しい"
   ],
   "cell_type": "markdown",
   "metadata": {}
  },
  {
   "source": [
    "## URL構造を確認する\n",
    "* 対象のサイトのサイトマップを確認する\n",
    "* サイトマップをXMLで提供しているサイトもある\n",
    "* サイトマップが得られない場合は、カテゴリ一覧のページがないかサイト内を探索する"
   ],
   "cell_type": "markdown",
   "metadata": {}
  },
  {
   "source": [
    "## 目的とするデータの提供がないか確認する\n",
    "* サイトによってはクローラーによるサーバーへのアクセス負荷を避けるために、公式でアーカイブデータを提供している場合もある（Wikipediaなど）\n",
    "* サイト上にクローラーアクセスに関する注意が書かれていることもあるため、注意事項をよく読む"
   ],
   "cell_type": "markdown",
   "metadata": {}
  },
  {
   "source": [
    "## Web API\n",
    "* Web APIを利用して特定のURLに決められたパラメータでアクセスすれば、XMLやJSONといった構造化されたデータが得られる\n",
    "* QiitaではWeb APIによるJSON形式のデータと、各タグに紐付けられた投稿のAtomフィードを提供している\n",
    "* JSON形式のデータはjqなどのJSONユーティリティを使うと見やすくなる\n"
   ],
   "cell_type": "markdown",
   "metadata": {}
  },
  {
   "cell_type": "code",
   "execution_count": 1,
   "metadata": {
    "tags": [
     "outputPrepend"
    ]
   },
   "outputs": [
    {
     "output_type": "stream",
     "name": "stdout",
     "text": [
      "\\\"lazy\\\"></a><br>\\nCSSがHTMLを装飾してwebブラウザに表示します。</p>\\n\\n<p>実際ブラウザ上でどのような違いがあるのか、CSS有り、無しで表示した画像を並べてみました。</p>\\n\\n<p><a href=\\\"https://qiita-user-contents.imgix.net/https%3A%2F%2Fqiita-image-store.s3.ap-northeast-1.amazonaws.com%2F0%2F792954%2F1fd3bb00-6935-366b-2883-f623f8e0ec49.png?ixlib=rb-1.2.2&amp;auto=format&amp;gif-q=60&amp;q=75&amp;s=ca25d7c087fbba2e797ec1dcb0a5ee8f\\\" target=\\\"_blank\\\" rel=\\\"nofollow noopener\\\"><img src=\\\"https://qiita-user-contents.imgix.net/https%3A%2F%2Fqiita-image-store.s3.ap-northeast-1.amazonaws.com%2F0%2F792954%2F1fd3bb00-6935-366b-2883-f623f8e0ec49.png?ixlib=rb-1.2.2&amp;auto=format&amp;gif-q=60&amp;q=75&amp;s=ca25d7c087fbba2e797ec1dcb0a5ee8f\\\" alt=\\\"スクリーンショット 2021-02-09 18.26.30.png\\\" data-canonical-src=\\\"https://qiita-image-store.s3.ap-northeast-1.amazonaws.com/0/792954/1fd3bb00-6935-366b-2883-f623f8e0ec49.png\\\" srcset=\\\"https://qiita-user-contents.imgix.net/https%3A%2F%2Fqiita-image-store.s3.ap-northeast-1.amazonaws.com%2F0%2F792954%2F1fd3bb00-6935-366b-2883-f623f8e0ec49.png?ixlib=rb-1.2.2&amp;auto=format&amp;gif-q=60&amp;q=75&amp;w=1400&amp;fit=max&amp;s=abc22460e6482b8a38c01cc56b3c6370 1x\\\" loading=\\\"lazy\\\"></a><br>\\n両者をみると明らかに左の方がそれっぽいページの見た目をしています。<br>\\nCSSを使い見た目を整えることで、ユーザーにとって使いやすいサイト・サービスが構築可能です。<br>\\nよってこの2つの言語はセットて使うことが一般的です。</p>\\n\\n<h1>\\n<span id=\\\"まとめ\\\" class=\\\"fragment\\\"></span><a href=\\\"#%E3%81%BE%E3%81%A8%E3%82%81\\\"><i class=\\\"fa fa-link\\\"></i></a>まとめ</h1>\\n\\n<h5>\\n<span id=\\\"次回はブラウザ表を行います\\\" class=\\\"fragment\\\"></span><a href=\\\"#%E6%AC%A1%E5%9B%9E%E3%81%AF%E3%83%96%E3%83%A9%E3%82%A6%E3%82%B6%E8%A1%A8%E3%82%92%E8%A1%8C%E3%81%84%E3%81%BE%E3%81%99\\\"><i class=\\\"fa fa-link\\\"></i></a>次回はブラウザ表を行います。</h5>\\n\"\u001b[0m\u001b[1;39m,\n",
      "    \u001b[0m\u001b[34;1m\"body\"\u001b[0m\u001b[1;39m: \u001b[0m\u001b[0;32m\"#導入\\nHTMLやCSS、Rubyを学習し始めてから2年弱が経過しました。\\n\\n先日友達から「プログラミングを学ぼうと思う」と言われ、アウトプットの意味を込めて「教える！」と返事をしました。しかし、「自分が知っている」と「他人に教えること」では大きな違いがありました。実際に教えてみると、うまく伝わらず不明点が多く残ってしまったのです。\\n\\nこのことから、自分の知っている知識を正しく、わかりやすく説明する必要があると気がつきました。\\nそのための練習として、基礎的なHTML・CSSをここでアウトプットしたいと思います。\\n\\n#概要(ゴール設定)\\nこちらんの記事ではHTMLとCSSの役割とウェブブラウザで表示する方法について説明します。\\n\\n\\n#Webサイトの見た目は2つの言語からできている。\\n\\n![スクリーンショット 2021-02-09 17.57.22.png](https://qiita-image-store.s3.ap-northeast-1.amazonaws.com/0/792954/b5a56dec-7796-0b65-2eb0-9b69e0e6c1c6.png)\\n\\n\\nwebサイトというと様々な言語で構成されていると思われがちですが、実際はHTMLとCSSの2つの言語によって構成されています。\\n\\n##どんな関係性か？\\n![スクリーンショット 2021-02-09 18.10.19.png](https://qiita-image-store.s3.ap-northeast-1.amazonaws.com/0/792954/5684b4f4-00b8-4e1b-3901-1ca662172b46.png)\\nCSSがHTMLを装飾してwebブラウザに表示します。\\n\\n実際ブラウザ上でどのような違いがあるのか、CSS有り、無しで表示した画像を並べてみました。\\n\\n![スクリーンショット 2021-02-09 18.26.30.png](https://qiita-image-store.s3.ap-northeast-1.amazonaws.com/0/792954/1fd3bb00-6935-366b-2883-f623f8e0ec49.png)\\n両者をみると明らかに左の方がそれっぽいページの見た目をしています。\\nCSSを使い見た目を整えることで、ユーザーにとって使いやすいサイト・サービスが構築可能です。\\nよってこの2つの言語はセットて使うことが一般的です。\\n\\n#まとめ\\n#####次回はブラウザ表を行います。\\n\\n\\n\"\u001b[0m\u001b[1;39m,\n",
      "    \u001b[0m\u001b[34;1m\"coediting\"\u001b[0m\u001b[1;39m: \u001b[0m\u001b[0;39mfalse\u001b[0m\u001b[1;39m,\n",
      "    \u001b[0m\u001b[34;1m\"comments_count\"\u001b[0m\u001b[1;39m: \u001b[0m\u001b[0;39m0\u001b[0m\u001b[1;39m,\n",
      "    \u001b[0m\u001b[34;1m\"created_at\"\u001b[0m\u001b[1;39m: \u001b[0m\u001b[0;32m\"2021-02-09T18:43:11+09:00\"\u001b[0m\u001b[1;39m,\n",
      "    \u001b[0m\u001b[34;1m\"group\"\u001b[0m\u001b[1;39m: \u001b[0m\u001b[1;30mnull\u001b[0m\u001b[1;39m,\n",
      "    \u001b[0m\u001b[34;1m\"id\"\u001b[0m\u001b[1;39m: \u001b[0m\u001b[0;32m\"ed3b479a187cf0678296\"\u001b[0m\u001b[1;39m,\n",
      "    \u001b[0m\u001b[34;1m\"likes_count\"\u001b[0m\u001b[1;39m: \u001b[0m\u001b[0;39m0\u001b[0m\u001b[1;39m,\n",
      "    \u001b[0m\u001b[34;1m\"private\"\u001b[0m\u001b[1;39m: \u001b[0m\u001b[0;39mfalse\u001b[0m\u001b[1;39m,\n",
      "    \u001b[0m\u001b[34;1m\"reactions_count\"\u001b[0m\u001b[1;39m: \u001b[0m\u001b[0;39m0\u001b[0m\u001b[1;39m,\n",
      "    \u001b[0m\u001b[34;1m\"tags\"\u001b[0m\u001b[1;39m: \u001b[0m\u001b[1;39m[\n",
      "      \u001b[1;39m{\n",
      "        \u001b[0m\u001b[34;1m\"name\"\u001b[0m\u001b[1;39m: \u001b[0m\u001b[0;32m\"HTML\"\u001b[0m\u001b[1;39m,\n",
      "        \u001b[0m\u001b[34;1m\"versions\"\u001b[0m\u001b[1;39m: \u001b[0m\u001b[1;39m[]\u001b[0m\u001b[1;39m\n",
      "      \u001b[1;39m}\u001b[0m\u001b[1;39m,\n",
      "      \u001b[1;39m{\n",
      "        \u001b[0m\u001b[34;1m\"name\"\u001b[0m\u001b[1;39m: \u001b[0m\u001b[0;32m\"CSS\"\u001b[0m\u001b[1;39m,\n",
      "        \u001b[0m\u001b[34;1m\"versions\"\u001b[0m\u001b[1;39m: \u001b[0m\u001b[1;39m[]\u001b[0m\u001b[1;39m\n",
      "      \u001b[1;39m}\u001b[0m\u001b[1;39m\n",
      "    \u001b[1;39m]\u001b[0m\u001b[1;39m,\n",
      "    \u001b[0m\u001b[34;1m\"title\"\u001b[0m\u001b[1;39m: \u001b[0m\u001b[0;32m\"HTML/CSS概要【初心者向け】\"\u001b[0m\u001b[1;39m,\n",
      "    \u001b[0m\u001b[34;1m\"updated_at\"\u001b[0m\u001b[1;39m: \u001b[0m\u001b[0;32m\"2021-02-09T18:43:11+09:00\"\u001b[0m\u001b[1;39m,\n",
      "    \u001b[0m\u001b[34;1m\"url\"\u001b[0m\u001b[1;39m: \u001b[0m\u001b[0;32m\"https://qiita.com/ghexcffb/items/ed3b479a187cf0678296\"\u001b[0m\u001b[1;39m,\n",
      "    \u001b[0m\u001b[34;1m\"user\"\u001b[0m\u001b[1;39m: \u001b[0m\u001b[1;39m{\n",
      "      \u001b[0m\u001b[34;1m\"description\"\u001b[0m\u001b[1;39m: \u001b[0m\u001b[0;32m\"現在Ruby on Railsを学習しています.\\r\\n友人がHPを作っているのをきっかけにプログラミングに興味を持ちました.WordPress→Udemyの「HTML.CSS入門,JavaScript入門」を受講.さらにフォームに入力した情報はどこにいくのだろうかという疑問を持ったと同時にwebアプリケーションに興味を持ちました.　\\r\\n\\r\\n\\r\\n\\r\\n\\r\\n\"\u001b[0m\u001b[1;39m,\n",
      "      \u001b[0m\u001b[34;1m\"facebook_id\"\u001b[0m\u001b[1;39m: \u001b[0m\u001b[0;32m\"facebook.com/pontymagic\"\u001b[0m\u001b[1;39m,\n",
      "      \u001b[0m\u001b[34;1m\"followees_count\"\u001b[0m\u001b[1;39m: \u001b[0m\u001b[0;39m1\u001b[0m\u001b[1;39m,\n",
      "      \u001b[0m\u001b[34;1m\"followers_count\"\u001b[0m\u001b[1;39m: \u001b[0m\u001b[0;39m1\u001b[0m\u001b[1;39m,\n",
      "      \u001b[0m\u001b[34;1m\"github_login_name\"\u001b[0m\u001b[1;39m: \u001b[0m\u001b[1;30mnull\u001b[0m\u001b[1;39m,\n",
      "      \u001b[0m\u001b[34;1m\"id\"\u001b[0m\u001b[1;39m: \u001b[0m\u001b[0;32m\"ghexcffb\"\u001b[0m\u001b[1;39m,\n",
      "      \u001b[0m\u001b[34;1m\"items_count\"\u001b[0m\u001b[1;39m: \u001b[0m\u001b[0;39m9\u001b[0m\u001b[1;39m,\n",
      "      \u001b[0m\u001b[34;1m\"linkedin_id\"\u001b[0m\u001b[1;39m: \u001b[0m\u001b[0;32m\"\"\u001b[0m\u001b[1;39m,\n",
      "      \u001b[0m\u001b[34;1m\"location\"\u001b[0m\u001b[1;39m: \u001b[0m\u001b[0;32m\"神奈川県横浜市\"\u001b[0m\u001b[1;39m,\n",
      "      \u001b[0m\u001b[34;1m\"name\"\u001b[0m\u001b[1;39m: \u001b[0m\u001b[0;32m\"二宮 崇人\"\u001b[0m\u001b[1;39m,\n",
      "      \u001b[0m\u001b[34;1m\"organization\"\u001b[0m\u001b[1;39m: \u001b[0m\u001b[0;32m\"BBQ Craft\"\u001b[0m\u001b[1;39m,\n",
      "      \u001b[0m\u001b[34;1m\"permanent_id\"\u001b[0m\u001b[1;39m: \u001b[0m\u001b[0;39m792954\u001b[0m\u001b[1;39m,\n",
      "      \u001b[0m\u001b[34;1m\"profile_image_url\"\u001b[0m\u001b[1;39m: \u001b[0m\u001b[0;32m\"https://lh3.googleusercontent.com/a-/AOh14GjoycafFjVXy32cGVRF5y7n_Z5j-DNeZkPyS-_hmw=s50\"\u001b[0m\u001b[1;39m,\n",
      "      \u001b[0m\u001b[34;1m\"team_only\"\u001b[0m\u001b[1;39m: \u001b[0m\u001b[0;39mfalse\u001b[0m\u001b[1;39m,\n",
      "      \u001b[0m\u001b[34;1m\"twitter_screen_name\"\u001b[0m\u001b[1;39m: \u001b[0m\u001b[1;30mnull\u001b[0m\u001b[1;39m,\n",
      "      \u001b[0m\u001b[34;1m\"website_url\"\u001b[0m\u001b[1;39m: \u001b[0m\u001b[0;32m\"https://pontyblog.com/\"\u001b[0m\u001b[1;39m\n",
      "    \u001b[1;39m}\u001b[0m\u001b[1;39m,\n",
      "    \u001b[0m\u001b[34;1m\"page_views_count\"\u001b[0m\u001b[1;39m: \u001b[0m\u001b[1;30mnull\u001b[0m\u001b[1;39m\n",
      "  \u001b[1;39m}\u001b[0m\u001b[1;39m,\n",
      "  \u001b[1;39m{\n",
      "    \u001b[0m\u001b[34;1m\"rendered_body\"\u001b[0m\u001b[1;39m: \u001b[0m\u001b[0;32m\"\\n\\n<p><a href=\\\"https://qiita-user-contents.imgix.net/https%3A%2F%2Fqiita-image-store.s3.ap-northeast-1.amazonaws.com%2F0%2F486518%2F4f449c84-b69f-6123-7153-14e438e286c5.png?ixlib=rb-1.2.2&amp;auto=format&amp;gif-q=60&amp;q=75&amp;s=0c6c104dc5802e5dec2cb1cb90661d41\\\" target=\\\"_blank\\\" rel=\\\"nofollow noopener\\\"><img src=\\\"https://qiita-user-contents.imgix.net/https%3A%2F%2Fqiita-image-store.s3.ap-northeast-1.amazonaws.com%2F0%2F486518%2F4f449c84-b69f-6123-7153-14e438e286c5.png?ixlib=rb-1.2.2&amp;auto=format&amp;gif-q=60&amp;q=75&amp;s=0c6c104dc5802e5dec2cb1cb90661d41\\\" alt=\\\"haniwa-tag4.png\\\" data-canonical-src=\\\"https://qiita-image-store.s3.ap-northeast-1.amazonaws.com/0/486518/4f449c84-b69f-6123-7153-14e438e286c5.png\\\" srcset=\\\"https://qiita-user-contents.imgix.net/https%3A%2F%2Fqiita-image-store.s3.ap-northeast-1.amazonaws.com%2F0%2F486518%2F4f449c84-b69f-6123-7153-14e438e286c5.png?ixlib=rb-1.2.2&amp;auto=format&amp;gif-q=60&amp;q=75&amp;w=1400&amp;fit=max&amp;s=1eb6910297a4fcd0ca4528a5d2316216 1x\\\" loading=\\\"lazy\\\"></a></p>\\n\\n<p><a href=\\\"https://qiita.com/o2346/items/e8a1a719ad6d95baebe5\\\" id=\\\"reference-801f1c5476fee620ed59\\\">前回</a> の続きです。</p>\\n\\n<p>前回、 required-tags の非準拠情報を Slack に通知する機能を実現させました。<br>\\n今回は Tag policies のほうの同等機能です</p>\\n\\n<h2>\\n<span id=\\\"設計\\\" class=\\\"fragment\\\"></span><a href=\\\"#%E8%A8%AD%E8%A8%88\\\"><i class=\\\"fa fa-link\\\"></i></a>設計</h2>\\n\\n<p>reqired-tags のときと同様、自作 Lambda Function にすることにしました。<br>\\n但し2つのアカウントにそれぞれ別個の Lambda function となります。次のようなものです</p>\\n\\n<ol>\\n<li>定時起動 Lambda function \\\"Generator\\\" で専用S3 bucket （以下 Bucket1） に  <a href=\\\"https://boto3.amazonaws.com/v1/documentation/api/latest/reference/services/resourcegroupstaggingapi.html#ResourceGroupsTaggingAPI.Client.start_report_creation\\\" rel=\\\"nofollow noopener\\\" target=\\\"_blank\\\">report を書き出し</a>\\n\\n<ul>\\n<li>Organizations Master Account に展開</li>\\n</ul>\\n</li>\\n<li>\\n<a href=\\\"https://docs.aws.amazon.com/lambda/latest/dg/with-s3.html\\\" rel=\\\"nofollow noopener\\\" target=\\\"_blank\\\">report の書き出しをトリガーに</a> 通知用 Lambda Function \\\"Transmitter\\\" を起動\\n\\n<ul>\\n<li>Compliance Account に展開</li>\\n<li>Bucket1 からデータを読み出し整形、 Slack へ配信</li>\\n</ul>\\n</li>\\n</ol>\\n\\n<p>これだと2つの別々の Accounts に分散させてしまうことになってしまいますが、せっかく専用の Compliance Account を用意しているわけですから、関連する処理は極力 Compliance Accounts に寄せたいと考えたところこうなりました</p>\\n\\n<p>次に各々の Lambda Function です</p>\\n\\n<h3>\\n<span id=\\\"lambda-function-generator\\\" class=\\\"fragment\\\"></span><a href=\\\"#lambda-function-generator\\\"><i class=\\\"fa fa-link\\\"></i></a>Lambda function \\\"Generator\\\"</h3>\\n\\n<p>定時起動して Bucket1 に書き出すだけ<br>\\nOrganizations Master Account に展開</p>\\n\\n<ul>\\n<li>この命令は Compliace Account ではなく、 Organizations Master Account で実施する必要がある</li>\\n<li>Bucket1 は Organizations Master Account ではなく、 Compliance Account 側に作成されることにしている。同作成とポリシーの設定（Organizations Master Accountからの書き込み許可）は次の \\\"Transmitter\\\" で扱う</li>\\n</ul>\\n\\n<h3>\\n<span id=\\\"lambda-function-transmitter\\\" class=\\\"fragment\\\"></span><a href=\\\"#lambda-function-transmitter\\\"><i class=\\\"fa fa-link\\\"></i></a>Lambda function \\\"Transmitter\\\"</h3>\\n\\n<p>Bucket1 に書き出されたら起動し、情報を整形して Slack に配信する<br>\\nCompliance Account に展開</p>\\n\\n<p>Lambda function \\\"Generator\\\" で書き出された Report は <a href=\\\"https://boto3.amazonaws.com/v1/documentation/api/latest/reference/services/resourcegroupstaggingapi.html#ResourceGroupsTaggingAPI.Client.start_report_creation\\\" rel=\\\"nofollow noopener\\\" target=\\\"_blank\\\">準拠、非準拠全ての情報が書き出されたcsv</a> となっています<br>\\n見たい情報は非準拠だけですので、そもそも前工程の書き出しをさせる時点で非準拠だけというようなオプションを指定したいのですが見当たりません。しょうがないので、当 function 内でフィルタリング機能を内蔵することにします。具体的には非準拠のみ版 csv (ここでは noncompliants.csv とします) を生成、S3 に保存します(Bucket1 とは別、Bucket2 とします)</p>\\n\\n<p>次にメッセージのコンテンツですが、非準拠数に応じて情報量が巨大となってしまう恐れがあるので、個別のリソースごとにメッセージを投稿するなどは避けることにしました。 <a href=\\\"#note\\\">※1</a> そのかわり、 noncompliants.csv へのアクセス方法を通知します</p>\\n\\n<p>通知を受け取る想定ユーザは組織のコンプライアンスチームであり、 Compliance Account(の Bucket2 に保存された noncompliants.csv) へのアクセス権を得ているとします。したがって当面、同ユーザらが通知を受け取った際は、自らのアクセス権で noncompliants.csv を任意に取得、運用してもらうこととしました。そこから先の最適化は将来課題とします</p>\\n\\n<h2>\\n<span id=\\\"実装\\\" class=\\\"fragment\\\"></span><a href=\\\"#%E5%AE%9F%E8%A3%85\\\"><i class=\\\"fa fa-link\\\"></i></a>実装</h2>\\n\\n<p><a href=\\\"https://github.com/o2346/tagging-discipline/tree/main/tag-policies/tpnt\\\" rel=\\\"nofollow noopener\\\" target=\\\"_blank\\\">こちら</a> になります。前回同様 SAM ベースです</p>\\n\\n<p>そして 各々を <code>sam deploy</code> しますとこのような通知になります</p>\\n\\n<p><a href=\\\"https://qiita-user-contents.imgix.net/https%3A%2F%2Fqiita-image-store.s3.ap-northeast-1.amazonaws.com%2F0%2F486518%2F399f5a57-6af1-88ff-ed96-902fc69ebc6b.png?ixlib=rb-1.2.2&amp;auto=format&amp;gif-q=60&amp;q=75&amp;s=5a270dc192b0879e3410b71dde2f9b46\\\" target=\\\"_blank\\\" rel=\\\"nofollow noopener\\\"><img src=\\\"https://qiita-user-contents.imgix.net/https%3A%2F%2Fqiita-image-store.s3.ap-northeast-1.amazonaws.com%2F0%2F486518%2F399f5a57-6af1-88ff-ed96-902fc69ebc6b.png?ixlib=rb-1.2.2&amp;auto=format&amp;gif-q=60&amp;q=75&amp;s=5a270dc192b0879e3410b71dde2f9b46\\\" alt=\\\"tpnt.png\\\" data-canonical-src=\\\"https://qiita-image-store.s3.ap-northeast-1.amazonaws.com/0/486518/399f5a57-6af1-88ff-ed96-902fc69ebc6b.png\\\" srcset=\\\"https://qiita-user-contents.imgix.net/https%3A%2F%2Fqiita-image-store.s3.ap-northeast-1.amazonaws.com%2F0%2F486518%2F399f5a57-6af1-88ff-ed96-902fc69ebc6b.png?ixlib=rb-1.2.2&amp;auto=format&amp;gif-q=60&amp;q=75&amp;w=1400&amp;fit=max&amp;s=6dc9bcb3b0e4e90c86bd71a21da9af55 1x\\\" loading=\\\"lazy\\\"></a></p>\\n\\n<p>これが一日一回送られてきます（デフォルトの場合）<br>\\nCompliace Account の権限で、通知で示されたコマンドを実行すれば非準拠の一覧が取得できます<br>\\n加えて各 Sattelite accounts(Member accounts) において <a href=\\\"https://console.aws.amazon.com/resource-groups/tag-policies/?region=ap-northeast-1#\\\" rel=\\\"nofollow noopener\\\" target=\\\"_blank\\\">Effective tag policy and noncompliants</a> に飛ぶことでも確認可能</p>\\n\\n<h2>\\n<span id=\\\"運用イメージ\\\" class=\\\"fragment\\\"></span><a href=\\\"#%E9%81%8B%E7%94%A8%E3%82%A4%E3%83%A1%E3%83%BC%E3%82%B8\\\"><i class=\\\"fa fa-link\\\"></i></a>運用イメージ</h2>\\n\\n<p>この通知受領後のコンプライアンスチームのアクションとしては、非準拠リソースを有する各 account 所管チームにたいして、通知された非準拠情報に基づき修復を促す、というイメージです。</p>\\n\\n<h2>\\n<span id=\\\"まとめ\\\" class=\\\"fragment\\\"></span><a href=\\\"#%E3%81%BE%E3%81%A8%E3%82%81\\\"><i class=\\\"fa fa-link\\\"></i></a>まとめ</h2>\\n\\n<p>ここまでで、 <a href=\\\"https://qiita.com/o2346/items/532571e8b8fcd8dcb53c#%E8%87%AA%E7%B5%84%E7%B9%94%E3%81%AB%E3%81%A9%E3%81%AE%E3%82%88%E3%81%86%E3%81%AB%E5%B0%8E%E5%85%A5%E3%81%97%E3%81%A6%E3%81%84%E3%81%8F%E3%81%8B\\\" id=\\\"reference-7544b3a24830085cee17\\\">当初目指していたこと</a> は実現できたといっていいのではないかと思います。すなわち、強制や遮断、禁止といった強い規制・介入を伴わずに、組織全体に対し、タグ付けのルールを施行し、かつ Slack 通知によってコンプライアンスチームの運用負荷を極力減らす、といった仕組みづくりです</p>\\n\\n<p>まずはこの仕組みによって、組織のタグ付け文化を <a href=\\\"https://d1.awsstatic.com/whitepapers/aws-tagging-best-practices.pdf\\\" rel=\\\"nofollow noopener\\\" target=\\\"_blank\\\">ベストプラクティス（※pdf注意）</a> により近づけていく足がかりなれば幸いです。継続できていけば、後の厳格化や自動化なども、進めやすいかもしれませんね。</p>\\n\\n<p>このシリーズは今回で最終回となります<br>\\n最後までお付き合いいただき、ありがとうございます<img alt=\\\":smile:\\\" class=\\\"emoji\\\" height=\\\"20\\\" src=\\\"https://cdn.qiita.com/emoji/twemoji/unicode/1f604.png\\\" title=\\\":smile:\\\" width=\\\"20\\\" loading=\\\"lazy\\\"></p>\\n\\n<h2>\\n<span id=\\\"note\\\" class=\\\"fragment\\\"></span><a href=\\\"#note\\\"><i class=\\\"fa fa-link\\\"></i></a>note</h2>\\n\\n<p>※1 前回のように非準拠リソース数が一定数以下なら個別配信する、という仕様でもいいかもしれませんが見送り</p>\\n\"\u001b[0m\u001b[1;39m,\n",
      "    \u001b[0m\u001b[34;1m\"body\"\u001b[0m\u001b[1;39m: \u001b[0m\u001b[0;32m\"<!-- # Invoke tagging discipline across organization in AWS - 4 (the last post) -->\\n\\n![haniwa-tag4.png](https://qiita-image-store.s3.ap-northeast-1.amazonaws.com/0/486518/4f449c84-b69f-6123-7153-14e438e286c5.png)\\n\\n[前回](https://qiita.com/o2346/items/e8a1a719ad6d95baebe5) の続きです。\\n\\n前回、 required-tags の非準拠情報を Slack に通知する機能を実現させました。\\n今回は Tag policies のほうの同等機能です\\n\\n## 設計\\n\\nreqired-tags のときと同様、自作 Lambda Function にすることにしました。\\n但し2つのアカウントにそれぞれ別個の Lambda function となります。次のようなものです\\n\\n1. 定時起動 Lambda function \\\"Generator\\\" で専用S3 bucket （以下 Bucket1） に  [report を書き出し](https://boto3.amazonaws.com/v1/documentation/api/latest/reference/services/resourcegroupstaggingapi.html#ResourceGroupsTaggingAPI.Client.start_report_creation)\\n  * Organizations Master Account に展開\\n1. [report の書き出しをトリガーに](https://docs.aws.amazon.com/lambda/latest/dg/with-s3.html) 通知用 Lambda Function \\\"Transmitter\\\" を起動\\n  * Compliance Account に展開\\n  * Bucket1 からデータを読み出し整形、 Slack へ配信\\n\\nこれだと2つの別々の Accounts に分散させてしまうことになってしまいますが、せっかく専用の Compliance Account を用意しているわけですから、関連する処理は極力 Compliance Accounts に寄せたいと考えたところこうなりました\\n\\n次に各々の Lambda Function です\\n\\n### Lambda function \\\"Generator\\\"\\n\\n定時起動して Bucket1 に書き出すだけ\\nOrganizations Master Account に展開\\n\\n* この命令は Compliace Account ではなく、 Organizations Master Account で実施する必要がある\\n* Bucket1 は Organizations Master Account ではなく、 Compliance Account 側に作成されることにしている。同作成とポリシーの設定（Organizations Master Accountからの書き込み許可）は次の \\\"Transmitter\\\" で扱う\\n\\n### Lambda function \\\"Transmitter\\\"\\n\\nBucket1 に書き出されたら起動し、情報を整形して Slack に配信する\\nCompliance Account に展開\\n\\nLambda function \\\"Generator\\\" で書き出された Report は [準拠、非準拠全ての情報が書き出されたcsv](https://boto3.amazonaws.com/v1/documentation/api/latest/reference/services/resourcegroupstaggingapi.html#ResourceGroupsTaggingAPI.Client.start_report_creation) となっています\\n見たい情報は非準拠だけですので、そもそも前工程の書き出しをさせる時点で非準拠だけというようなオプションを指定したいのですが見当たりません。しょうがないので、当 function 内でフィルタリング機能を内蔵することにします。具体的には非準拠のみ版 csv (ここでは noncompliants.csv とします) を生成、S3 に保存します(Bucket1 とは別、Bucket2 とします)\\n\\n次にメッセージのコンテンツですが、非準拠数に応じて情報量が巨大となってしまう恐れがあるので、個別のリソースごとにメッセージを投稿するなどは避けることにしました。 [※1](#note) そのかわり、 noncompliants.csv へのアクセス方法を通知します\\n\\n通知を受け取る想定ユーザは組織のコンプライアンスチームであり、 Compliance Account(の Bucket2 に保存された noncompliants.csv) へのアクセス権を得ているとします。したがって当面、同ユーザらが通知を受け取った際は、自らのアクセス権で noncompliants.csv を任意に取得、運用してもらうこととしました。そこから先の最適化は将来課題とします\\n\\n## 実装\\n\\n[こちら](https://github.com/o2346/tagging-discipline/tree/main/tag-policies/tpnt) になります。前回同様 SAM ベースです\\n\\nそして 各々を `sam deploy` しますとこのような通知になります\\n\\n![tpnt.png](https://qiita-image-store.s3.ap-northeast-1.amazonaws.com/0/486518/399f5a57-6af1-88ff-ed96-902fc69ebc6b.png)\\n\\nこれが一日一回送られてきます（デフォルトの場合）\\nCompliace Account の権限で、通知で示されたコマンドを実行すれば非準拠の一覧が取得できます\\n加えて各 Sattelite accounts(Member accounts) において [Effective tag policy and noncompliants](https://console.aws.amazon.com/resource-groups/tag-policies/?region=ap-northeast-1#) に飛ぶことでも確認可能\\n\\n## 運用イメージ\\n\\nこの通知受領後のコンプライアンスチームのアクションとしては、非準拠リソースを有する各 account 所管チームにたいして、通知された非準拠情報に基づき修復を促す、というイメージです。\\n\\n## まとめ\\n\\nここまでで、 [当初目指していたこと](https://qiita.com/o2346/items/532571e8b8fcd8dcb53c#%E8%87%AA%E7%B5%84%E7%B9%94%E3%81%AB%E3%81%A9%E3%81%AE%E3%82%88%E3%81%86%E3%81%AB%E5%B0%8E%E5%85%A5%E3%81%97%E3%81%A6%E3%81%84%E3%81%8F%E3%81%8B) は実現できたといっていいのではないかと思います。すなわち、強制や遮断、禁止といった強い規制・介入を伴わずに、組織全体に対し、タグ付けのルールを施行し、かつ Slack 通知によってコンプライアンスチームの運用負荷を極力減らす、といった仕組みづくりです\\n\\nまずはこの仕組みによって、組織のタグ付け文化を [ベストプラクティス（※pdf注意）](https://d1.awsstatic.com/whitepapers/aws-tagging-best-practices.pdf) により近づけていく足がかりなれば幸いです。継続できていけば、後の厳格化や自動化なども、進めやすいかもしれませんね。\\n\\nこのシリーズは今回で最終回となります\\n最後までお付き合いいただき、ありがとうございます:smile:\\n\\n## note\\n\\n※1 前回のように非準拠リソース数が一定数以下なら個別配信する、という仕様でもいいかもしれませんが見送り\\n\"\u001b[0m\u001b[1;39m,\n",
      "    \u001b[0m\u001b[34;1m\"coediting\"\u001b[0m\u001b[1;39m: \u001b[0m\u001b[0;39mfalse\u001b[0m\u001b[1;39m,\n",
      "    \u001b[0m\u001b[34;1m\"comments_count\"\u001b[0m\u001b[1;39m: \u001b[0m\u001b[0;39m0\u001b[0m\u001b[1;39m,\n",
      "    \u001b[0m\u001b[34;1m\"created_at\"\u001b[0m\u001b[1;39m: \u001b[0m\u001b[0;32m\"2021-02-09T18:41:49+09:00\"\u001b[0m\u001b[1;39m,\n",
      "    \u001b[0m\u001b[34;1m\"group\"\u001b[0m\u001b[1;39m: \u001b[0m\u001b[1;30mnull\u001b[0m\u001b[1;39m,\n",
      "    \u001b[0m\u001b[34;1m\"id\"\u001b[0m\u001b[1;39m: \u001b[0m\u001b[0;32m\"04db0c8b5394df38e05f\"\u001b[0m\u001b[1;39m,\n",
      "    \u001b[0m\u001b[34;1m\"likes_count\"\u001b[0m\u001b[1;39m: \u001b[0m\u001b[0;39m0\u001b[0m\u001b[1;39m,\n",
      "    \u001b[0m\u001b[34;1m\"private\"\u001b[0m\u001b[1;39m: \u001b[0m\u001b[0;39mfalse\u001b[0m\u001b[1;39m,\n",
      "    \u001b[0m\u001b[34;1m\"reactions_count\"\u001b[0m\u001b[1;39m: \u001b[0m\u001b[0;39m0\u001b[0m\u001b[1;39m,\n",
      "    \u001b[0m\u001b[34;1m\"tags\"\u001b[0m\u001b[1;39m: \u001b[0m\u001b[1;39m[\n",
      "      \u001b[1;39m{\n",
      "        \u001b[0m\u001b[34;1m\"name\"\u001b[0m\u001b[1;39m: \u001b[0m\u001b[0;32m\"Python\"\u001b[0m\u001b[1;39m,\n",
      "        \u001b[0m\u001b[34;1m\"versions\"\u001b[0m\u001b[1;39m: \u001b[0m\u001b[1;39m[]\u001b[0m\u001b[1;39m\n",
      "      \u001b[1;39m}\u001b[0m\u001b[1;39m,\n",
      "      \u001b[1;39m{\n",
      "        \u001b[0m\u001b[34;1m\"name\"\u001b[0m\u001b[1;39m: \u001b[0m\u001b[0;32m\"AWS\"\u001b[0m\u001b[1;39m,\n",
      "        \u001b[0m\u001b[34;1m\"versions\"\u001b[0m\u001b[1;39m: \u001b[0m\u001b[1;39m[]\u001b[0m\u001b[1;39m\n",
      "      \u001b[1;39m}\u001b[0m\u001b[1;39m,\n",
      "      \u001b[1;39m{\n",
      "        \u001b[0m\u001b[34;1m\"name\"\u001b[0m\u001b[1;39m: \u001b[0m\u001b[0;32m\"tag\"\u001b[0m\u001b[1;39m,\n",
      "        \u001b[0m\u001b[34;1m\"versions\"\u001b[0m\u001b[1;39m: \u001b[0m\u001b[1;39m[]\u001b[0m\u001b[1;39m\n",
      "      \u001b[1;39m}\u001b[0m\u001b[1;39m,\n",
      "      \u001b[1;39m{\n",
      "        \u001b[0m\u001b[34;1m\"name\"\u001b[0m\u001b[1;39m: \u001b[0m\u001b[0;32m\"sam\"\u001b[0m\u001b[1;39m,\n",
      "        \u001b[0m\u001b[34;1m\"versions\"\u001b[0m\u001b[1;39m: \u001b[0m\u001b[1;39m[]\u001b[0m\u001b[1;39m\n",
      "      \u001b[1;39m}\u001b[0m\u001b[1;39m,\n",
      "      \u001b[1;39m{\n",
      "        \u001b[0m\u001b[34;1m\"name\"\u001b[0m\u001b[1;39m: \u001b[0m\u001b[0;32m\"Organizations\"\u001b[0m\u001b[1;39m,\n",
      "        \u001b[0m\u001b[34;1m\"versions\"\u001b[0m\u001b[1;39m: \u001b[0m\u001b[1;39m[]\u001b[0m\u001b[1;39m\n",
      "      \u001b[1;39m}\u001b[0m\u001b[1;39m\n",
      "    \u001b[1;39m]\u001b[0m\u001b[1;39m,\n",
      "    \u001b[0m\u001b[34;1m\"title\"\u001b[0m\u001b[1;39m: \u001b[0m\u001b[0;32m\"Invoke tagging discipline across organization in AWS - 4 (the last post)\"\u001b[0m\u001b[1;39m,\n",
      "    \u001b[0m\u001b[34;1m\"updated_at\"\u001b[0m\u001b[1;39m: \u001b[0m\u001b[0;32m\"2021-02-09T18:50:12+09:00\"\u001b[0m\u001b[1;39m,\n",
      "    \u001b[0m\u001b[34;1m\"url\"\u001b[0m\u001b[1;39m: \u001b[0m\u001b[0;32m\"https://qiita.com/o2346/items/04db0c8b5394df38e05f\"\u001b[0m\u001b[1;39m,\n",
      "    \u001b[0m\u001b[34;1m\"user\"\u001b[0m\u001b[1;39m: \u001b[0m\u001b[1;39m{\n",
      "      \u001b[0m\u001b[34;1m\"description\"\u001b[0m\u001b[1;39m: \u001b[0m\u001b[0;32m\"\"\u001b[0m\u001b[1;39m,\n",
      "      \u001b[0m\u001b[34;1m\"facebook_id\"\u001b[0m\u001b[1;39m: \u001b[0m\u001b[0;32m\"\"\u001b[0m\u001b[1;39m,\n",
      "      \u001b[0m\u001b[34;1m\"followees_count\"\u001b[0m\u001b[1;39m: \u001b[0m\u001b[0;39m0\u001b[0m\u001b[1;39m,\n",
      "      \u001b[0m\u001b[34;1m\"followers_count\"\u001b[0m\u001b[1;39m: \u001b[0m\u001b[0;39m2\u001b[0m\u001b[1;39m,\n",
      "      \u001b[0m\u001b[34;1m\"github_login_name\"\u001b[0m\u001b[1;39m: \u001b[0m\u001b[1;30mnull\u001b[0m\u001b[1;39m,\n",
      "      \u001b[0m\u001b[34;1m\"id\"\u001b[0m\u001b[1;39m: \u001b[0m\u001b[0;32m\"o2346\"\u001b[0m\u001b[1;39m,\n",
      "      \u001b[0m\u001b[34;1m\"items_count\"\u001b[0m\u001b[1;39m: \u001b[0m\u001b[0;39m11\u001b[0m\u001b[1;39m,\n",
      "      \u001b[0m\u001b[34;1m\"linkedin_id\"\u001b[0m\u001b[1;39m: \u001b[0m\u001b[0;32m\"\"\u001b[0m\u001b[1;39m,\n",
      "      \u001b[0m\u001b[34;1m\"location\"\u001b[0m\u001b[1;39m: \u001b[0m\u001b[0;32m\"\"\u001b[0m\u001b[1;39m,\n",
      "      \u001b[0m\u001b[34;1m\"name\"\u001b[0m\u001b[1;39m: \u001b[0m\u001b[0;32m\"o2\"\u001b[0m\u001b[1;39m,\n",
      "      \u001b[0m\u001b[34;1m\"organization\"\u001b[0m\u001b[1;39m: \u001b[0m\u001b[0;32m\"\"\u001b[0m\u001b[1;39m,\n",
      "      \u001b[0m\u001b[34;1m\"permanent_id\"\u001b[0m\u001b[1;39m: \u001b[0m\u001b[0;39m486518\u001b[0m\u001b[1;39m,\n",
      "      \u001b[0m\u001b[34;1m\"profile_image_url\"\u001b[0m\u001b[1;39m: \u001b[0m\u001b[0;32m\"https://s3-ap-northeast-1.amazonaws.com/qiita-image-store/0/486518/7804e0e69b975e9bf6fcbfcea7b8eca4bda8350e/x_large.png?1594817390\"\u001b[0m\u001b[1;39m,\n",
      "      \u001b[0m\u001b[34;1m\"team_only\"\u001b[0m\u001b[1;39m: \u001b[0m\u001b[0;39mfalse\u001b[0m\u001b[1;39m,\n",
      "      \u001b[0m\u001b[34;1m\"twitter_screen_name\"\u001b[0m\u001b[1;39m: \u001b[0m\u001b[1;30mnull\u001b[0m\u001b[1;39m,\n",
      "      \u001b[0m\u001b[34;1m\"website_url\"\u001b[0m\u001b[1;39m: \u001b[0m\u001b[0;32m\"\"\u001b[0m\u001b[1;39m\n",
      "    \u001b[1;39m}\u001b[0m\u001b[1;39m,\n",
      "    \u001b[0m\u001b[34;1m\"page_views_count\"\u001b[0m\u001b[1;39m: \u001b[0m\u001b[1;30mnull\u001b[0m\u001b[1;39m\n",
      "  \u001b[1;39m}\u001b[0m\u001b[1;39m\n",
      "\u001b[1;39m]\u001b[0m\n"
     ]
    }
   ],
   "source": [
    "!curl 'https://qiita.com/api/v2/items?page=1&per_page=20' | jq ."
   ]
  },
  {
   "source": [
    "# ２．　クローラーの持つ各処理工程ごとの設計と注意点"
   ],
   "cell_type": "markdown",
   "metadata": {}
  },
  {
   "source": [
    "## 設計の勘所\n",
    "![](./images/20210208152750.png)"
   ],
   "cell_type": "markdown",
   "metadata": {}
  },
  {
   "source": [
    "## ネットワークリクエスト\n",
    "* 間隔を空ける  \n",
    "少なくとも１秒は空ける\n",
    "\n",
    "* タイムアウト  \n",
    "クロールしたタイミングでサーバーが高負荷の場合は、3秒待って応答がなければタイムアウトしたほうが効率的\n",
    "\n",
    "* リトライ  \n",
    "リトライは１から３回ぐらいがよい  \n",
    "Exponential Backoff: リトライまでの最適な時間をシステムが計算すること。  \n",
    "通信に失敗する回数が多いほど、１秒、２秒、４秒、８秒と２のn乗で秒数を増やす。"
   ],
   "cell_type": "markdown",
   "metadata": {}
  },
  {
   "source": [
    "## パース\n",
    "* 文字コード  \n",
    "HTMLソースの場合は様々な文字コードで書かれているため、抽出結果が文字化けすることがある  \n",
    "サイトごとの文字コードを予め調べておき、決め打ちで処理するのが最も良い  \n",
    "それができない場合は文字コード変換ライブラリを使う  \n",
    "\n",
    "* HTML/XML解析  \n",
    "HTML Tidy: HTMLのタグ欠けなどを修復してくれるライブラリ  \n",
    "Beautiful Soup: Pythonの代表的なHTML/XML解析プログラム  \n",
    "lxml: Pythonの代表的なHTML/XML解析プログラム \n",
    "\n",
    "* JSONデコーダー  \n",
    "JSONデコーダーを使うことで辞書型（連想配列型）のデータに変換できる"
   ],
   "cell_type": "markdown",
   "metadata": {}
  },
  {
   "source": [
    "## スクレイピングと正規表現\n",
    "* URL正規化  \n",
    "相対リンクは絶対リンクに修正しておく  \n",
    "\n",
    "* テスト  \n",
    "テストコードを書くことで収集処理との分離がしやすくなり、目視での確認を毎回行わずに済む"
   ],
   "cell_type": "markdown",
   "metadata": {}
  },
  {
   "source": [
    "## データストレージの選定と構造\n",
    "* ファイル  \n",
    "一つのディレクトリに数万のファイルを保存すると、ファイル一覧などを取得する処理で不具合が生じることがあるが、ディレクトリを分散させることで不具合を避けることができる  \n",
    "「ダウンロードしたファイルがファイルがどのページに紐づくか」などの属性的な情報が不要で、ファイル数が数万を超えてくるようであれば、保存ファイル名をSHA-1形式にハッシュ化し、先頭２文字でディレクトリを分けるなど工夫をする  \n",
    "\n",
    "* データベース  \n",
    "ダウンロードしたファイルがファイルがどのページに紐づくか、リクエスト時のレスポンスヘッダーがどうであったかなど、付帯情報を細かく記録、保存していく場合はMySQLなどのリレーショナル・データベースが向いている  \n",
    "\n",
    "* データの存在確認  \n",
    "すでに対象URLが保存済みの場合はリクエストしないようにする"
   ],
   "cell_type": "markdown",
   "metadata": {}
  },
  {
   "source": [
    "# ３．　バッチ作成の注意点"
   ],
   "cell_type": "markdown",
   "metadata": {}
  },
  {
   "source": [
    "## バッチ（バッチプログラム）とは\n",
    "予め定められた一連の処理の流れを一度に行うこと  \n",
    "\n",
    "* 工程ごとの分離  \n",
    "ネットワークリクエストとスクレイピング部分は別の関数やクラスになるように、各工程が分離しているのが理想的  \n",
    "\n",
    "* 中間データを保存しておく  \n",
    "各工程を分割するためにも、ネットワークリクエストしたデータは保存しておいたほうがよい  \n",
    "\n",
    "* 実行時間と経過がわかるようにする  \n",
    "実行時間がわかるとどこかのサイトでエラーが起きているかもしれないといった判断ができる  \n",
    "現在処理中のURLや工程のラベル（クローリングの経過）を表示することで、思ったとおりにプログラムが動いているか確認できる  \n",
    "HTTPステータスを保存しておけば、対象データが保存できなかった場合にリンク切れだったのか、サーバーエラーだったのか、メンテナンス中だったのか判断できる  \n",
    "\n",
    "* 停止条件を明確にする  \n",
    "無限ループしないように、クロールする階層やドメインを限定したり、ダウンロードするファイル数の上限を決め、条件に応じてクロールを終了するようにしておく  \n",
    "\n",
    "* 関数の引数をシンプルにする  \n",
    "中間データを保存しておき、そのキーを引数にするとよい  \n",
    "\n",
    "* 日時の扱いに注意する  \n",
    "データベースの更新日時を保存しておく場合、UTC（Coodinated Universal Time）に統一しておくとよい  \n",
    "クロールを実行するマシンの日時もNTP（Network Time Protocol）を入れて正確な時刻を持つようにする"
   ],
   "cell_type": "markdown",
   "metadata": {}
  },
  {
   "source": [
    "## 設計の例"
   ],
   "cell_type": "markdown",
   "metadata": {}
  },
  {
   "source": [
    "### ソースを確認する"
   ],
   "cell_type": "markdown",
   "metadata": {}
  },
  {
   "cell_type": "code",
   "execution_count": 5,
   "metadata": {},
   "outputs": [
    {
     "output_type": "stream",
     "name": "stdout",
     "text": [
      "<html lang=\"ja\">\n<head>\n<meta http-equiv=\"Content-Type\" content=\"text/html;charset=utf-8\">\n<meta http-equiv=\"Content-Style-Type\" content=\"text/css\">\n<title>作家別作品リスト：吉川 英治</title>\n<style type=\"text/css\">\n<!--\nbody{\n    margin-left: 10%;\n    margin-right: 10%;\n"
     ]
    }
   ],
   "source": [
    "!curl -Ss 'https://www.aozora.gr.jp/index_pages/person1562.html#sakuhin_list_1' | head"
   ]
  },
  {
   "source": [
    "### データの保存方法\n",
    "データベースに保存する場合は、絵文字などの４バイト文字に対応できるようにしておくと良い  \n",
    "例えば、MySQLの場合はcharset=utf8mb4で指定する"
   ],
   "cell_type": "markdown",
   "metadata": {}
  },
  {
   "source": [
    "### ファイルの保存形式\n",
    "* CSV: Comma-Separated Values, カンマで区切ったデータ. 入れ子構造は持てない\n",
    "* TSV: Tab-Separated Values, タブで区切ったデータ. 入れ子構造は持てない\n",
    "* JSON: JavaScript Object Notation, 軽量なデータ交換フォーマット. 入れ子構造を持てる.   \n",
    "ある程度人間にも読めて、プログラムからも扱いやすい形式としてJSONは悪くない選択肢と言える"
   ],
   "cell_type": "markdown",
   "metadata": {}
  }
 ]
}